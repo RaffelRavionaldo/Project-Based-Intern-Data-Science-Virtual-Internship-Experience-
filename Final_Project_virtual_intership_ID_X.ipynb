{
  "nbformat": 4,
  "nbformat_minor": 0,
  "metadata": {
    "colab": {
      "name": "Final Project virtual intership ID/X",
      "provenance": [],
      "collapsed_sections": []
    },
    "kernelspec": {
      "name": "python3",
      "display_name": "Python 3"
    },
    "language_info": {
      "name": "python"
    }
  },
  "cells": [
    {
      "cell_type": "markdown",
      "source": [
        "# Membaca data\n",
        "\n",
        "Melakukan load data dan melihat informasi dari data dan menampilkan 5 baris pertama dari data"
      ],
      "metadata": {
        "id": "AFndsHemfI9x"
      }
    },
    {
      "cell_type": "code",
      "source": [
        "!pip install dython"
      ],
      "metadata": {
        "colab": {
          "base_uri": "https://localhost:8080/"
        },
        "id": "4HMv-o8Sjt5T",
        "outputId": "75c8a08c-5f7e-4309-ee64-d0775f5c005a"
      },
      "execution_count": 1,
      "outputs": [
        {
          "output_type": "stream",
          "name": "stdout",
          "text": [
            "Looking in indexes: https://pypi.org/simple, https://us-python.pkg.dev/colab-wheels/public/simple/\n",
            "Requirement already satisfied: dython in /usr/local/lib/python3.7/dist-packages (0.7.1.post4)\n",
            "Requirement already satisfied: seaborn>=0.11.0 in /usr/local/lib/python3.7/dist-packages (from dython) (0.11.2)\n",
            "Requirement already satisfied: matplotlib>=3.4.3 in /usr/local/lib/python3.7/dist-packages (from dython) (3.5.3)\n",
            "Requirement already satisfied: scikit-plot>=0.3.7 in /usr/local/lib/python3.7/dist-packages (from dython) (0.3.7)\n",
            "Requirement already satisfied: numpy>=1.19.5 in /usr/local/lib/python3.7/dist-packages (from dython) (1.21.6)\n",
            "Requirement already satisfied: scipy>=1.7.1 in /usr/local/lib/python3.7/dist-packages (from dython) (1.7.3)\n",
            "Requirement already satisfied: pandas>=1.3.2 in /usr/local/lib/python3.7/dist-packages (from dython) (1.3.5)\n",
            "Requirement already satisfied: scikit-learn>=0.24.2 in /usr/local/lib/python3.7/dist-packages (from dython) (1.0.2)\n",
            "Requirement already satisfied: pillow>=6.2.0 in /usr/local/lib/python3.7/dist-packages (from matplotlib>=3.4.3->dython) (7.1.2)\n",
            "Requirement already satisfied: cycler>=0.10 in /usr/local/lib/python3.7/dist-packages (from matplotlib>=3.4.3->dython) (0.11.0)\n",
            "Requirement already satisfied: packaging>=20.0 in /usr/local/lib/python3.7/dist-packages (from matplotlib>=3.4.3->dython) (21.3)\n",
            "Requirement already satisfied: pyparsing>=2.2.1 in /usr/local/lib/python3.7/dist-packages (from matplotlib>=3.4.3->dython) (3.0.9)\n",
            "Requirement already satisfied: kiwisolver>=1.0.1 in /usr/local/lib/python3.7/dist-packages (from matplotlib>=3.4.3->dython) (1.4.4)\n",
            "Requirement already satisfied: python-dateutil>=2.7 in /usr/local/lib/python3.7/dist-packages (from matplotlib>=3.4.3->dython) (2.8.2)\n",
            "Requirement already satisfied: fonttools>=4.22.0 in /usr/local/lib/python3.7/dist-packages (from matplotlib>=3.4.3->dython) (4.37.1)\n",
            "Requirement already satisfied: typing-extensions in /usr/local/lib/python3.7/dist-packages (from kiwisolver>=1.0.1->matplotlib>=3.4.3->dython) (4.1.1)\n",
            "Requirement already satisfied: pytz>=2017.3 in /usr/local/lib/python3.7/dist-packages (from pandas>=1.3.2->dython) (2022.2.1)\n",
            "Requirement already satisfied: six>=1.5 in /usr/local/lib/python3.7/dist-packages (from python-dateutil>=2.7->matplotlib>=3.4.3->dython) (1.15.0)\n",
            "Requirement already satisfied: threadpoolctl>=2.0.0 in /usr/local/lib/python3.7/dist-packages (from scikit-learn>=0.24.2->dython) (3.1.0)\n",
            "Requirement already satisfied: joblib>=0.11 in /usr/local/lib/python3.7/dist-packages (from scikit-learn>=0.24.2->dython) (1.1.0)\n"
          ]
        }
      ]
    },
    {
      "cell_type": "code",
      "source": [
        "import itertools\n",
        "import joblib\n",
        "import os\n",
        "\n",
        "import numpy as np\n",
        "import pandas as pd\n",
        "import matplotlib.pyplot as plt\n",
        "import seaborn as sns; sns.set();\n",
        "\n",
        "from sklearn.linear_model import LogisticRegression\n",
        "from sklearn.model_selection import train_test_split\n",
        "from sklearn.pipeline import Pipeline\n",
        "from sklearn.compose import make_column_selector as selector\n",
        "from sklearn.compose import ColumnTransformer\n",
        "from sklearn.preprocessing import OneHotEncoder, StandardScaler\n",
        "from sklearn.impute import SimpleImputer\n",
        "from sklearn.metrics import classification_report, confusion_matrix\n",
        "from dython.nominal import associations\n",
        "\n",
        "from imblearn.over_sampling import SMOTE\n",
        "from imblearn.under_sampling import RandomUnderSampler\n",
        "from imblearn.pipeline import Pipeline\n",
        "\n",
        "from imblearn.over_sampling import SMOTE"
      ],
      "metadata": {
        "id": "SnoHjuHfjpY5"
      },
      "execution_count": 2,
      "outputs": []
    },
    {
      "cell_type": "code",
      "execution_count": 3,
      "metadata": {
        "id": "RnSseNmTewBx",
        "colab": {
          "base_uri": "https://localhost:8080/"
        },
        "outputId": "532fb8b5-8e0c-44df-e2ef-6c71768beab9"
      },
      "outputs": [
        {
          "output_type": "stream",
          "name": "stderr",
          "text": [
            "/usr/local/lib/python3.7/dist-packages/IPython/core/interactiveshell.py:3326: DtypeWarning: Columns (20) have mixed types.Specify dtype option on import or set low_memory=False.\n",
            "  exec(code_obj, self.user_global_ns, self.user_ns)\n"
          ]
        },
        {
          "output_type": "stream",
          "name": "stdout",
          "text": [
            "<class 'pandas.core.frame.DataFrame'>\n",
            "RangeIndex: 466285 entries, 0 to 466284\n",
            "Data columns (total 75 columns):\n",
            " #   Column                       Non-Null Count   Dtype  \n",
            "---  ------                       --------------   -----  \n",
            " 0   Unnamed: 0                   466285 non-null  int64  \n",
            " 1   id                           466285 non-null  int64  \n",
            " 2   member_id                    466285 non-null  int64  \n",
            " 3   loan_amnt                    466285 non-null  int64  \n",
            " 4   funded_amnt                  466285 non-null  int64  \n",
            " 5   funded_amnt_inv              466285 non-null  float64\n",
            " 6   term                         466285 non-null  object \n",
            " 7   int_rate                     466285 non-null  float64\n",
            " 8   installment                  466285 non-null  float64\n",
            " 9   grade                        466285 non-null  object \n",
            " 10  sub_grade                    466285 non-null  object \n",
            " 11  emp_title                    438697 non-null  object \n",
            " 12  emp_length                   445277 non-null  object \n",
            " 13  home_ownership               466285 non-null  object \n",
            " 14  annual_inc                   466281 non-null  float64\n",
            " 15  verification_status          466285 non-null  object \n",
            " 16  issue_d                      466285 non-null  object \n",
            " 17  loan_status                  466285 non-null  object \n",
            " 18  pymnt_plan                   466285 non-null  object \n",
            " 19  url                          466285 non-null  object \n",
            " 20  desc                         125983 non-null  object \n",
            " 21  purpose                      466285 non-null  object \n",
            " 22  title                        466265 non-null  object \n",
            " 23  zip_code                     466285 non-null  object \n",
            " 24  addr_state                   466285 non-null  object \n",
            " 25  dti                          466285 non-null  float64\n",
            " 26  delinq_2yrs                  466256 non-null  float64\n",
            " 27  earliest_cr_line             466256 non-null  object \n",
            " 28  inq_last_6mths               466256 non-null  float64\n",
            " 29  mths_since_last_delinq       215934 non-null  float64\n",
            " 30  mths_since_last_record       62638 non-null   float64\n",
            " 31  open_acc                     466256 non-null  float64\n",
            " 32  pub_rec                      466256 non-null  float64\n",
            " 33  revol_bal                    466285 non-null  int64  \n",
            " 34  revol_util                   465945 non-null  float64\n",
            " 35  total_acc                    466256 non-null  float64\n",
            " 36  initial_list_status          466285 non-null  object \n",
            " 37  out_prncp                    466285 non-null  float64\n",
            " 38  out_prncp_inv                466285 non-null  float64\n",
            " 39  total_pymnt                  466285 non-null  float64\n",
            " 40  total_pymnt_inv              466285 non-null  float64\n",
            " 41  total_rec_prncp              466285 non-null  float64\n",
            " 42  total_rec_int                466285 non-null  float64\n",
            " 43  total_rec_late_fee           466285 non-null  float64\n",
            " 44  recoveries                   466285 non-null  float64\n",
            " 45  collection_recovery_fee      466285 non-null  float64\n",
            " 46  last_pymnt_d                 465909 non-null  object \n",
            " 47  last_pymnt_amnt              466285 non-null  float64\n",
            " 48  next_pymnt_d                 239071 non-null  object \n",
            " 49  last_credit_pull_d           466243 non-null  object \n",
            " 50  collections_12_mths_ex_med   466140 non-null  float64\n",
            " 51  mths_since_last_major_derog  98974 non-null   float64\n",
            " 52  policy_code                  466285 non-null  int64  \n",
            " 53  application_type             466285 non-null  object \n",
            " 54  annual_inc_joint             0 non-null       float64\n",
            " 55  dti_joint                    0 non-null       float64\n",
            " 56  verification_status_joint    0 non-null       float64\n",
            " 57  acc_now_delinq               466256 non-null  float64\n",
            " 58  tot_coll_amt                 396009 non-null  float64\n",
            " 59  tot_cur_bal                  396009 non-null  float64\n",
            " 60  open_acc_6m                  0 non-null       float64\n",
            " 61  open_il_6m                   0 non-null       float64\n",
            " 62  open_il_12m                  0 non-null       float64\n",
            " 63  open_il_24m                  0 non-null       float64\n",
            " 64  mths_since_rcnt_il           0 non-null       float64\n",
            " 65  total_bal_il                 0 non-null       float64\n",
            " 66  il_util                      0 non-null       float64\n",
            " 67  open_rv_12m                  0 non-null       float64\n",
            " 68  open_rv_24m                  0 non-null       float64\n",
            " 69  max_bal_bc                   0 non-null       float64\n",
            " 70  all_util                     0 non-null       float64\n",
            " 71  total_rev_hi_lim             396009 non-null  float64\n",
            " 72  inq_fi                       0 non-null       float64\n",
            " 73  total_cu_tl                  0 non-null       float64\n",
            " 74  inq_last_12m                 0 non-null       float64\n",
            "dtypes: float64(46), int64(7), object(22)\n",
            "memory usage: 266.8+ MB\n"
          ]
        }
      ],
      "source": [
        "df = pd.read_csv('loan_data_2007_2014.csv')\n",
        "# melihat informasi dari data\n",
        "df.info()                                 "
      ]
    },
    {
      "cell_type": "code",
      "source": [
        "# menampilkan 5 baris pertama dari data\n",
        "df.head()"
      ],
      "metadata": {
        "colab": {
          "base_uri": "https://localhost:8080/",
          "height": 404
        },
        "id": "r67DU-EktMfI",
        "outputId": "846c2394-b19b-4dc4-c4f8-cf9023794b03"
      },
      "execution_count": 4,
      "outputs": [
        {
          "output_type": "execute_result",
          "data": {
            "text/plain": [
              "   Unnamed: 0       id  member_id  loan_amnt  funded_amnt  funded_amnt_inv  \\\n",
              "0           0  1077501    1296599       5000         5000           4975.0   \n",
              "1           1  1077430    1314167       2500         2500           2500.0   \n",
              "2           2  1077175    1313524       2400         2400           2400.0   \n",
              "3           3  1076863    1277178      10000        10000          10000.0   \n",
              "4           4  1075358    1311748       3000         3000           3000.0   \n",
              "\n",
              "         term  int_rate  installment grade  ... total_bal_il il_util  \\\n",
              "0   36 months     10.65       162.87     B  ...          NaN     NaN   \n",
              "1   60 months     15.27        59.83     C  ...          NaN     NaN   \n",
              "2   36 months     15.96        84.33     C  ...          NaN     NaN   \n",
              "3   36 months     13.49       339.31     C  ...          NaN     NaN   \n",
              "4   60 months     12.69        67.79     B  ...          NaN     NaN   \n",
              "\n",
              "  open_rv_12m open_rv_24m  max_bal_bc all_util total_rev_hi_lim inq_fi  \\\n",
              "0         NaN         NaN         NaN      NaN              NaN    NaN   \n",
              "1         NaN         NaN         NaN      NaN              NaN    NaN   \n",
              "2         NaN         NaN         NaN      NaN              NaN    NaN   \n",
              "3         NaN         NaN         NaN      NaN              NaN    NaN   \n",
              "4         NaN         NaN         NaN      NaN              NaN    NaN   \n",
              "\n",
              "  total_cu_tl inq_last_12m  \n",
              "0         NaN          NaN  \n",
              "1         NaN          NaN  \n",
              "2         NaN          NaN  \n",
              "3         NaN          NaN  \n",
              "4         NaN          NaN  \n",
              "\n",
              "[5 rows x 75 columns]"
            ],
            "text/html": [
              "\n",
              "  <div id=\"df-f78b07c4-ac82-4fb4-9082-fd15836a18ed\">\n",
              "    <div class=\"colab-df-container\">\n",
              "      <div>\n",
              "<style scoped>\n",
              "    .dataframe tbody tr th:only-of-type {\n",
              "        vertical-align: middle;\n",
              "    }\n",
              "\n",
              "    .dataframe tbody tr th {\n",
              "        vertical-align: top;\n",
              "    }\n",
              "\n",
              "    .dataframe thead th {\n",
              "        text-align: right;\n",
              "    }\n",
              "</style>\n",
              "<table border=\"1\" class=\"dataframe\">\n",
              "  <thead>\n",
              "    <tr style=\"text-align: right;\">\n",
              "      <th></th>\n",
              "      <th>Unnamed: 0</th>\n",
              "      <th>id</th>\n",
              "      <th>member_id</th>\n",
              "      <th>loan_amnt</th>\n",
              "      <th>funded_amnt</th>\n",
              "      <th>funded_amnt_inv</th>\n",
              "      <th>term</th>\n",
              "      <th>int_rate</th>\n",
              "      <th>installment</th>\n",
              "      <th>grade</th>\n",
              "      <th>...</th>\n",
              "      <th>total_bal_il</th>\n",
              "      <th>il_util</th>\n",
              "      <th>open_rv_12m</th>\n",
              "      <th>open_rv_24m</th>\n",
              "      <th>max_bal_bc</th>\n",
              "      <th>all_util</th>\n",
              "      <th>total_rev_hi_lim</th>\n",
              "      <th>inq_fi</th>\n",
              "      <th>total_cu_tl</th>\n",
              "      <th>inq_last_12m</th>\n",
              "    </tr>\n",
              "  </thead>\n",
              "  <tbody>\n",
              "    <tr>\n",
              "      <th>0</th>\n",
              "      <td>0</td>\n",
              "      <td>1077501</td>\n",
              "      <td>1296599</td>\n",
              "      <td>5000</td>\n",
              "      <td>5000</td>\n",
              "      <td>4975.0</td>\n",
              "      <td>36 months</td>\n",
              "      <td>10.65</td>\n",
              "      <td>162.87</td>\n",
              "      <td>B</td>\n",
              "      <td>...</td>\n",
              "      <td>NaN</td>\n",
              "      <td>NaN</td>\n",
              "      <td>NaN</td>\n",
              "      <td>NaN</td>\n",
              "      <td>NaN</td>\n",
              "      <td>NaN</td>\n",
              "      <td>NaN</td>\n",
              "      <td>NaN</td>\n",
              "      <td>NaN</td>\n",
              "      <td>NaN</td>\n",
              "    </tr>\n",
              "    <tr>\n",
              "      <th>1</th>\n",
              "      <td>1</td>\n",
              "      <td>1077430</td>\n",
              "      <td>1314167</td>\n",
              "      <td>2500</td>\n",
              "      <td>2500</td>\n",
              "      <td>2500.0</td>\n",
              "      <td>60 months</td>\n",
              "      <td>15.27</td>\n",
              "      <td>59.83</td>\n",
              "      <td>C</td>\n",
              "      <td>...</td>\n",
              "      <td>NaN</td>\n",
              "      <td>NaN</td>\n",
              "      <td>NaN</td>\n",
              "      <td>NaN</td>\n",
              "      <td>NaN</td>\n",
              "      <td>NaN</td>\n",
              "      <td>NaN</td>\n",
              "      <td>NaN</td>\n",
              "      <td>NaN</td>\n",
              "      <td>NaN</td>\n",
              "    </tr>\n",
              "    <tr>\n",
              "      <th>2</th>\n",
              "      <td>2</td>\n",
              "      <td>1077175</td>\n",
              "      <td>1313524</td>\n",
              "      <td>2400</td>\n",
              "      <td>2400</td>\n",
              "      <td>2400.0</td>\n",
              "      <td>36 months</td>\n",
              "      <td>15.96</td>\n",
              "      <td>84.33</td>\n",
              "      <td>C</td>\n",
              "      <td>...</td>\n",
              "      <td>NaN</td>\n",
              "      <td>NaN</td>\n",
              "      <td>NaN</td>\n",
              "      <td>NaN</td>\n",
              "      <td>NaN</td>\n",
              "      <td>NaN</td>\n",
              "      <td>NaN</td>\n",
              "      <td>NaN</td>\n",
              "      <td>NaN</td>\n",
              "      <td>NaN</td>\n",
              "    </tr>\n",
              "    <tr>\n",
              "      <th>3</th>\n",
              "      <td>3</td>\n",
              "      <td>1076863</td>\n",
              "      <td>1277178</td>\n",
              "      <td>10000</td>\n",
              "      <td>10000</td>\n",
              "      <td>10000.0</td>\n",
              "      <td>36 months</td>\n",
              "      <td>13.49</td>\n",
              "      <td>339.31</td>\n",
              "      <td>C</td>\n",
              "      <td>...</td>\n",
              "      <td>NaN</td>\n",
              "      <td>NaN</td>\n",
              "      <td>NaN</td>\n",
              "      <td>NaN</td>\n",
              "      <td>NaN</td>\n",
              "      <td>NaN</td>\n",
              "      <td>NaN</td>\n",
              "      <td>NaN</td>\n",
              "      <td>NaN</td>\n",
              "      <td>NaN</td>\n",
              "    </tr>\n",
              "    <tr>\n",
              "      <th>4</th>\n",
              "      <td>4</td>\n",
              "      <td>1075358</td>\n",
              "      <td>1311748</td>\n",
              "      <td>3000</td>\n",
              "      <td>3000</td>\n",
              "      <td>3000.0</td>\n",
              "      <td>60 months</td>\n",
              "      <td>12.69</td>\n",
              "      <td>67.79</td>\n",
              "      <td>B</td>\n",
              "      <td>...</td>\n",
              "      <td>NaN</td>\n",
              "      <td>NaN</td>\n",
              "      <td>NaN</td>\n",
              "      <td>NaN</td>\n",
              "      <td>NaN</td>\n",
              "      <td>NaN</td>\n",
              "      <td>NaN</td>\n",
              "      <td>NaN</td>\n",
              "      <td>NaN</td>\n",
              "      <td>NaN</td>\n",
              "    </tr>\n",
              "  </tbody>\n",
              "</table>\n",
              "<p>5 rows × 75 columns</p>\n",
              "</div>\n",
              "      <button class=\"colab-df-convert\" onclick=\"convertToInteractive('df-f78b07c4-ac82-4fb4-9082-fd15836a18ed')\"\n",
              "              title=\"Convert this dataframe to an interactive table.\"\n",
              "              style=\"display:none;\">\n",
              "        \n",
              "  <svg xmlns=\"http://www.w3.org/2000/svg\" height=\"24px\"viewBox=\"0 0 24 24\"\n",
              "       width=\"24px\">\n",
              "    <path d=\"M0 0h24v24H0V0z\" fill=\"none\"/>\n",
              "    <path d=\"M18.56 5.44l.94 2.06.94-2.06 2.06-.94-2.06-.94-.94-2.06-.94 2.06-2.06.94zm-11 1L8.5 8.5l.94-2.06 2.06-.94-2.06-.94L8.5 2.5l-.94 2.06-2.06.94zm10 10l.94 2.06.94-2.06 2.06-.94-2.06-.94-.94-2.06-.94 2.06-2.06.94z\"/><path d=\"M17.41 7.96l-1.37-1.37c-.4-.4-.92-.59-1.43-.59-.52 0-1.04.2-1.43.59L10.3 9.45l-7.72 7.72c-.78.78-.78 2.05 0 2.83L4 21.41c.39.39.9.59 1.41.59.51 0 1.02-.2 1.41-.59l7.78-7.78 2.81-2.81c.8-.78.8-2.07 0-2.86zM5.41 20L4 18.59l7.72-7.72 1.47 1.35L5.41 20z\"/>\n",
              "  </svg>\n",
              "      </button>\n",
              "      \n",
              "  <style>\n",
              "    .colab-df-container {\n",
              "      display:flex;\n",
              "      flex-wrap:wrap;\n",
              "      gap: 12px;\n",
              "    }\n",
              "\n",
              "    .colab-df-convert {\n",
              "      background-color: #E8F0FE;\n",
              "      border: none;\n",
              "      border-radius: 50%;\n",
              "      cursor: pointer;\n",
              "      display: none;\n",
              "      fill: #1967D2;\n",
              "      height: 32px;\n",
              "      padding: 0 0 0 0;\n",
              "      width: 32px;\n",
              "    }\n",
              "\n",
              "    .colab-df-convert:hover {\n",
              "      background-color: #E2EBFA;\n",
              "      box-shadow: 0px 1px 2px rgba(60, 64, 67, 0.3), 0px 1px 3px 1px rgba(60, 64, 67, 0.15);\n",
              "      fill: #174EA6;\n",
              "    }\n",
              "\n",
              "    [theme=dark] .colab-df-convert {\n",
              "      background-color: #3B4455;\n",
              "      fill: #D2E3FC;\n",
              "    }\n",
              "\n",
              "    [theme=dark] .colab-df-convert:hover {\n",
              "      background-color: #434B5C;\n",
              "      box-shadow: 0px 1px 3px 1px rgba(0, 0, 0, 0.15);\n",
              "      filter: drop-shadow(0px 1px 2px rgba(0, 0, 0, 0.3));\n",
              "      fill: #FFFFFF;\n",
              "    }\n",
              "  </style>\n",
              "\n",
              "      <script>\n",
              "        const buttonEl =\n",
              "          document.querySelector('#df-f78b07c4-ac82-4fb4-9082-fd15836a18ed button.colab-df-convert');\n",
              "        buttonEl.style.display =\n",
              "          google.colab.kernel.accessAllowed ? 'block' : 'none';\n",
              "\n",
              "        async function convertToInteractive(key) {\n",
              "          const element = document.querySelector('#df-f78b07c4-ac82-4fb4-9082-fd15836a18ed');\n",
              "          const dataTable =\n",
              "            await google.colab.kernel.invokeFunction('convertToInteractive',\n",
              "                                                     [key], {});\n",
              "          if (!dataTable) return;\n",
              "\n",
              "          const docLinkHtml = 'Like what you see? Visit the ' +\n",
              "            '<a target=\"_blank\" href=https://colab.research.google.com/notebooks/data_table.ipynb>data table notebook</a>'\n",
              "            + ' to learn more about interactive tables.';\n",
              "          element.innerHTML = '';\n",
              "          dataTable['output_type'] = 'display_data';\n",
              "          await google.colab.output.renderOutput(dataTable, element);\n",
              "          const docLink = document.createElement('div');\n",
              "          docLink.innerHTML = docLinkHtml;\n",
              "          element.appendChild(docLink);\n",
              "        }\n",
              "      </script>\n",
              "    </div>\n",
              "  </div>\n",
              "  "
            ]
          },
          "metadata": {},
          "execution_count": 4
        }
      ]
    },
    {
      "cell_type": "markdown",
      "source": [
        "# Analisis Data\n",
        "\n",
        "Melihat status peminjaman"
      ],
      "metadata": {
        "id": "ewmbc3VpsiZC"
      }
    },
    {
      "cell_type": "code",
      "source": [
        "def plotcount(df, y, title, **sns_kwargs):\n",
        "  data = df['loan_status'].value_counts()\n",
        "\n",
        "  plt.figure(figsize=(16,12))\n",
        "  plt.title(title, fontsize=20)\n",
        "  sns.countplot(data = df, y = df['loan_status'], order=data.index, **sns_kwargs)\n",
        "\n",
        "  percentage = data / data.sum()\n",
        "  percentage = percentage.apply(\"{:.2%}\".format)\n",
        "\n",
        "  print(percentage)\n",
        "\n",
        "plotcount(df, y = 'loan_status', title = \"Status Pinjaman\")\n",
        "total_rows = df.count\n",
        "print(total_rows)"
      ],
      "metadata": {
        "colab": {
          "base_uri": "https://localhost:8080/",
          "height": 1000
        },
        "id": "ZSntNcT5ssJ6",
        "outputId": "ba3b297c-faf4-43ef-c0d7-33671764c016"
      },
      "execution_count": 5,
      "outputs": [
        {
          "output_type": "stream",
          "name": "stdout",
          "text": [
            "Current                                                48.09%\n",
            "Fully Paid                                             39.62%\n",
            "Charged Off                                             9.11%\n",
            "Late (31-120 days)                                      1.48%\n",
            "In Grace Period                                         0.67%\n",
            "Does not meet the credit policy. Status:Fully Paid      0.43%\n",
            "Late (16-30 days)                                       0.26%\n",
            "Default                                                 0.18%\n",
            "Does not meet the credit policy. Status:Charged Off     0.16%\n",
            "Name: loan_status, dtype: object\n",
            "<bound method DataFrame.count of         Unnamed: 0       id  member_id  loan_amnt  funded_amnt  \\\n",
            "0                0  1077501    1296599       5000         5000   \n",
            "1                1  1077430    1314167       2500         2500   \n",
            "2                2  1077175    1313524       2400         2400   \n",
            "3                3  1076863    1277178      10000        10000   \n",
            "4                4  1075358    1311748       3000         3000   \n",
            "...            ...      ...        ...        ...          ...   \n",
            "466280      466280  8598660    1440975      18400        18400   \n",
            "466281      466281  9684700   11536848      22000        22000   \n",
            "466282      466282  9584776   11436914      20700        20700   \n",
            "466283      466283  9604874   11457002       2000         2000   \n",
            "466284      466284  9199665   11061576      10000        10000   \n",
            "\n",
            "        funded_amnt_inv        term  int_rate  installment grade  ...  \\\n",
            "0                4975.0   36 months     10.65       162.87     B  ...   \n",
            "1                2500.0   60 months     15.27        59.83     C  ...   \n",
            "2                2400.0   36 months     15.96        84.33     C  ...   \n",
            "3               10000.0   36 months     13.49       339.31     C  ...   \n",
            "4                3000.0   60 months     12.69        67.79     B  ...   \n",
            "...                 ...         ...       ...          ...   ...  ...   \n",
            "466280          18400.0   60 months     14.47       432.64     C  ...   \n",
            "466281          22000.0   60 months     19.97       582.50     D  ...   \n",
            "466282          20700.0   60 months     16.99       514.34     D  ...   \n",
            "466283           2000.0   36 months      7.90        62.59     A  ...   \n",
            "466284           9975.0   36 months     19.20       367.58     D  ...   \n",
            "\n",
            "       total_bal_il il_util open_rv_12m open_rv_24m  max_bal_bc all_util  \\\n",
            "0               NaN     NaN         NaN         NaN         NaN      NaN   \n",
            "1               NaN     NaN         NaN         NaN         NaN      NaN   \n",
            "2               NaN     NaN         NaN         NaN         NaN      NaN   \n",
            "3               NaN     NaN         NaN         NaN         NaN      NaN   \n",
            "4               NaN     NaN         NaN         NaN         NaN      NaN   \n",
            "...             ...     ...         ...         ...         ...      ...   \n",
            "466280          NaN     NaN         NaN         NaN         NaN      NaN   \n",
            "466281          NaN     NaN         NaN         NaN         NaN      NaN   \n",
            "466282          NaN     NaN         NaN         NaN         NaN      NaN   \n",
            "466283          NaN     NaN         NaN         NaN         NaN      NaN   \n",
            "466284          NaN     NaN         NaN         NaN         NaN      NaN   \n",
            "\n",
            "       total_rev_hi_lim inq_fi total_cu_tl inq_last_12m  \n",
            "0                   NaN    NaN         NaN          NaN  \n",
            "1                   NaN    NaN         NaN          NaN  \n",
            "2                   NaN    NaN         NaN          NaN  \n",
            "3                   NaN    NaN         NaN          NaN  \n",
            "4                   NaN    NaN         NaN          NaN  \n",
            "...                 ...    ...         ...          ...  \n",
            "466280          29900.0    NaN         NaN          NaN  \n",
            "466281          39400.0    NaN         NaN          NaN  \n",
            "466282          13100.0    NaN         NaN          NaN  \n",
            "466283          53100.0    NaN         NaN          NaN  \n",
            "466284          16000.0    NaN         NaN          NaN  \n",
            "\n",
            "[466285 rows x 75 columns]>\n"
          ]
        },
        {
          "output_type": "display_data",
          "data": {
            "text/plain": [
              "<Figure size 1152x864 with 1 Axes>"
            ],
            "image/png": "[encoded data removed]"
          },
          "metadata": {}
        }
      ]
    },
    {
      "cell_type": "markdown",
      "source": [
        "Karena current dan in grace period merupakan status yang netral (Tidak termasuk gagal bayar atau berhasil bayar), maka data tersebut kita hapus saja."
      ],
      "metadata": {
        "id": "5Gtxlg7mti0y"
      }
    },
    {
      "cell_type": "code",
      "source": [
        "df.drop(df[(df['loan_status'] == \"Current\")].index, inplace=True)\n",
        "df.drop(df[(df['loan_status'] == \"In Grace Period\")].index, inplace = True)\n",
        "plotcount(df, y = 'loan_status', title = \"Status Pinjaman\")\n",
        "total_rows = df.count\n",
        "print(total_rows)"
      ],
      "metadata": {
        "colab": {
          "base_uri": "https://localhost:8080/",
          "height": 1000
        },
        "id": "kithSeQnAZJv",
        "outputId": "6696a0c1-63c4-4759-8273-6bc48c1c1363"
      },
      "execution_count": 6,
      "outputs": [
        {
          "output_type": "stream",
          "name": "stdout",
          "text": [
            "Fully Paid                                             77.32%\n",
            "Charged Off                                            17.78%\n",
            "Late (31-120 days)                                      2.89%\n",
            "Does not meet the credit policy. Status:Fully Paid      0.83%\n",
            "Late (16-30 days)                                       0.51%\n",
            "Default                                                 0.35%\n",
            "Does not meet the credit policy. Status:Charged Off     0.32%\n",
            "Name: loan_status, dtype: object\n",
            "<bound method DataFrame.count of         Unnamed: 0       id  member_id  loan_amnt  funded_amnt  \\\n",
            "0                0  1077501    1296599       5000         5000   \n",
            "1                1  1077430    1314167       2500         2500   \n",
            "2                2  1077175    1313524       2400         2400   \n",
            "3                3  1076863    1277178      10000        10000   \n",
            "5                5  1075269    1311441       5000         5000   \n",
            "...            ...      ...        ...        ...          ...   \n",
            "466276      466276  9695736   11547808       8525         8525   \n",
            "466277      466277  9007579   10799568      18000        18000   \n",
            "466278      466278  9745590   11597671      10000        10000   \n",
            "466281      466281  9684700   11536848      22000        22000   \n",
            "466283      466283  9604874   11457002       2000         2000   \n",
            "\n",
            "        funded_amnt_inv        term  int_rate  installment grade  ...  \\\n",
            "0                4975.0   36 months     10.65       162.87     B  ...   \n",
            "1                2500.0   60 months     15.27        59.83     C  ...   \n",
            "2                2400.0   36 months     15.96        84.33     C  ...   \n",
            "3               10000.0   36 months     13.49       339.31     C  ...   \n",
            "5                5000.0   36 months      7.90       156.46     A  ...   \n",
            "...                 ...         ...       ...          ...   ...  ...   \n",
            "466276           8525.0   60 months     18.25       217.65     D  ...   \n",
            "466277          17975.0   36 months      7.90       563.23     A  ...   \n",
            "466278          10000.0   36 months     18.25       362.78     D  ...   \n",
            "466281          22000.0   60 months     19.97       582.50     D  ...   \n",
            "466283           2000.0   36 months      7.90        62.59     A  ...   \n",
            "\n",
            "       total_bal_il il_util open_rv_12m open_rv_24m  max_bal_bc all_util  \\\n",
            "0               NaN     NaN         NaN         NaN         NaN      NaN   \n",
            "1               NaN     NaN         NaN         NaN         NaN      NaN   \n",
            "2               NaN     NaN         NaN         NaN         NaN      NaN   \n",
            "3               NaN     NaN         NaN         NaN         NaN      NaN   \n",
            "5               NaN     NaN         NaN         NaN         NaN      NaN   \n",
            "...             ...     ...         ...         ...         ...      ...   \n",
            "466276          NaN     NaN         NaN         NaN         NaN      NaN   \n",
            "466277          NaN     NaN         NaN         NaN         NaN      NaN   \n",
            "466278          NaN     NaN         NaN         NaN         NaN      NaN   \n",
            "466281          NaN     NaN         NaN         NaN         NaN      NaN   \n",
            "466283          NaN     NaN         NaN         NaN         NaN      NaN   \n",
            "\n",
            "       total_rev_hi_lim inq_fi total_cu_tl inq_last_12m  \n",
            "0                   NaN    NaN         NaN          NaN  \n",
            "1                   NaN    NaN         NaN          NaN  \n",
            "2                   NaN    NaN         NaN          NaN  \n",
            "3                   NaN    NaN         NaN          NaN  \n",
            "5                   NaN    NaN         NaN          NaN  \n",
            "...                 ...    ...         ...          ...  \n",
            "466276          49800.0    NaN         NaN          NaN  \n",
            "466277          50300.0    NaN         NaN          NaN  \n",
            "466278          11100.0    NaN         NaN          NaN  \n",
            "466281          39400.0    NaN         NaN          NaN  \n",
            "466283          53100.0    NaN         NaN          NaN  \n",
            "\n",
            "[238913 rows x 75 columns]>\n"
          ]
        },
        {
          "output_type": "display_data",
          "data": {
            "text/plain": [
              "<Figure size 1152x864 with 1 Axes>"
            ],
            "image/png": "[encoded data removed]"
          },
          "metadata": {}
        }
      ]
    },
    {
      "cell_type": "markdown",
      "source": [
        "Credit risk yang seharusnya diterima pada waktu yang akan data adalah status peminjamannya \"Fully Paid\" atau berhasil dilunaskan, sementara yang ditolak adalah pinjaman dengan status charged off, default dan does not meet the credit policy."
      ],
      "metadata": {
        "id": "rTCXnXbit78U"
      }
    },
    {
      "cell_type": "code",
      "source": [
        "approved =[\n",
        "    \"Fully Paid\"\n",
        "]\n",
        "dissaproved = [\n",
        "    \"Charged Off\",\n",
        "    \"Does not meet the credit policy. Status:Fully Paid\",\n",
        "    \"Default\",\n",
        "    \"Does not meet the credit policy. Status:Charged Off\"\n",
        "]"
      ],
      "metadata": {
        "id": "Pvzb0drSByVI"
      },
      "execution_count": 7,
      "outputs": []
    },
    {
      "cell_type": "markdown",
      "source": [
        "Kita lakukan standarisasi, dimana jika pinjaman diterima karena statusnya adalah fully paid akan bernilai 1, selain itu bernilai 0"
      ],
      "metadata": {
        "id": "1iG9bloQuahT"
      }
    },
    {
      "cell_type": "code",
      "source": [
        "def label_loan_status(value):\n",
        "    if value in approved:\n",
        "        return 1\n",
        "    return 0\n",
        "\n",
        "label_loan_status(\"Fully Paid\")"
      ],
      "metadata": {
        "colab": {
          "base_uri": "https://localhost:8080/"
        },
        "id": "OstHkjw1EXW0",
        "outputId": "e934e58d-a071-4881-86cd-6081aa940f39"
      },
      "execution_count": 8,
      "outputs": [
        {
          "output_type": "execute_result",
          "data": {
            "text/plain": [
              "1"
            ]
          },
          "metadata": {},
          "execution_count": 8
        }
      ]
    },
    {
      "cell_type": "code",
      "source": [
        "new_df = df[df[\"loan_status\"].isin(approved + dissaproved)].copy()\n",
        "new_df[\"loan_status\"] = new_df[\"loan_status\"].apply(label_loan_status)\n",
        "plotcount(new_df, y=\"loan_status\", title=\"Status Pinjaman\")"
      ],
      "metadata": {
        "colab": {
          "base_uri": "https://localhost:8080/",
          "height": 569
        },
        "id": "8fVfdT9VExOs",
        "outputId": "91302fa8-68b8-4032-ea1a-f268615a08a7"
      },
      "execution_count": 9,
      "outputs": [
        {
          "output_type": "stream",
          "name": "stdout",
          "text": [
            "1    80.04%\n",
            "0    19.96%\n",
            "Name: loan_status, dtype: object\n"
          ]
        },
        {
          "output_type": "display_data",
          "data": {
            "text/plain": [
              "<Figure size 1152x864 with 1 Axes>"
            ],
            "image/png": "[encoded data removed]"
          },
          "metadata": {}
        }
      ]
    },
    {
      "cell_type": "markdown",
      "source": [
        "Dari grafik diatas, dapat dilihat bahwa distribusi data tidak seimbang, sehingga perlu dilakukan data sampling sebelum melakukan pelatihan model machine learning"
      ],
      "metadata": {
        "id": "eOvS66xxvFOY"
      }
    },
    {
      "cell_type": "markdown",
      "source": [
        "Selanjutnya kita akan menghapus kolom yang menurut penulis memeliki pengaruh kecil atau tidak berpengaruh dalam penentu keputusan apakah status pinjaman tersebut berhasil dibayar lunas atau tidak."
      ],
      "metadata": {
        "id": "3JH85h1wx6jI"
      }
    },
    {
      "cell_type": "code",
      "source": [
        "# Informasi rinci mengenai kolom dan baris data\n",
        "data_stat = pd.DataFrame()\n",
        "data_stat.index = new_df.columns\n",
        "data_stat[\"unique_value\"] = new_df.nunique()\n",
        "data_stat[\"missing_rate\"] = new_df.isna().mean()\n",
        "data_stat[\"dtype\"] = new_df.dtypes\n",
        "data_stat\n"
      ],
      "metadata": {
        "id": "5V2dGgcyyR76",
        "colab": {
          "base_uri": "https://localhost:8080/",
          "height": 423
        },
        "outputId": "fe8be4a5-87f3-48a0-bb26-0ee93a0a8568"
      },
      "execution_count": 10,
      "outputs": [
        {
          "output_type": "execute_result",
          "data": {
            "text/plain": [
              "                  unique_value  missing_rate    dtype\n",
              "Unnamed: 0              230795      0.000000    int64\n",
              "id                      230795      0.000000    int64\n",
              "member_id               230795      0.000000    int64\n",
              "loan_amnt                 1308      0.000000    int64\n",
              "funded_amnt               1311      0.000000    int64\n",
              "...                        ...           ...      ...\n",
              "all_util                     0      1.000000  float64\n",
              "total_rev_hi_lim          9021      0.288026  float64\n",
              "inq_fi                       0      1.000000  float64\n",
              "total_cu_tl                  0      1.000000  float64\n",
              "inq_last_12m                 0      1.000000  float64\n",
              "\n",
              "[75 rows x 3 columns]"
            ],
            "text/html": [
              "\n",
              "  <div id=\"df-74387e31-563e-4cde-9797-0101c7ff3e3e\">\n",
              "    <div class=\"colab-df-container\">\n",
              "      <div>\n",
              "<style scoped>\n",
              "    .dataframe tbody tr th:only-of-type {\n",
              "        vertical-align: middle;\n",
              "    }\n",
              "\n",
              "    .dataframe tbody tr th {\n",
              "        vertical-align: top;\n",
              "    }\n",
              "\n",
              "    .dataframe thead th {\n",
              "        text-align: right;\n",
              "    }\n",
              "</style>\n",
              "<table border=\"1\" class=\"dataframe\">\n",
              "  <thead>\n",
              "    <tr style=\"text-align: right;\">\n",
              "      <th></th>\n",
              "      <th>unique_value</th>\n",
              "      <th>missing_rate</th>\n",
              "      <th>dtype</th>\n",
              "    </tr>\n",
              "  </thead>\n",
              "  <tbody>\n",
              "    <tr>\n",
              "      <th>Unnamed: 0</th>\n",
              "      <td>230795</td>\n",
              "      <td>0.000000</td>\n",
              "      <td>int64</td>\n",
              "    </tr>\n",
              "    <tr>\n",
              "      <th>id</th>\n",
              "      <td>230795</td>\n",
              "      <td>0.000000</td>\n",
              "      <td>int64</td>\n",
              "    </tr>\n",
              "    <tr>\n",
              "      <th>member_id</th>\n",
              "      <td>230795</td>\n",
              "      <td>0.000000</td>\n",
              "      <td>int64</td>\n",
              "    </tr>\n",
              "    <tr>\n",
              "      <th>loan_amnt</th>\n",
              "      <td>1308</td>\n",
              "      <td>0.000000</td>\n",
              "      <td>int64</td>\n",
              "    </tr>\n",
              "    <tr>\n",
              "      <th>funded_amnt</th>\n",
              "      <td>1311</td>\n",
              "      <td>0.000000</td>\n",
              "      <td>int64</td>\n",
              "    </tr>\n",
              "    <tr>\n",
              "      <th>...</th>\n",
              "      <td>...</td>\n",
              "      <td>...</td>\n",
              "      <td>...</td>\n",
              "    </tr>\n",
              "    <tr>\n",
              "      <th>all_util</th>\n",
              "      <td>0</td>\n",
              "      <td>1.000000</td>\n",
              "      <td>float64</td>\n",
              "    </tr>\n",
              "    <tr>\n",
              "      <th>total_rev_hi_lim</th>\n",
              "      <td>9021</td>\n",
              "      <td>0.288026</td>\n",
              "      <td>float64</td>\n",
              "    </tr>\n",
              "    <tr>\n",
              "      <th>inq_fi</th>\n",
              "      <td>0</td>\n",
              "      <td>1.000000</td>\n",
              "      <td>float64</td>\n",
              "    </tr>\n",
              "    <tr>\n",
              "      <th>total_cu_tl</th>\n",
              "      <td>0</td>\n",
              "      <td>1.000000</td>\n",
              "      <td>float64</td>\n",
              "    </tr>\n",
              "    <tr>\n",
              "      <th>inq_last_12m</th>\n",
              "      <td>0</td>\n",
              "      <td>1.000000</td>\n",
              "      <td>float64</td>\n",
              "    </tr>\n",
              "  </tbody>\n",
              "</table>\n",
              "<p>75 rows × 3 columns</p>\n",
              "</div>\n",
              "      <button class=\"colab-df-convert\" onclick=\"convertToInteractive('df-74387e31-563e-4cde-9797-0101c7ff3e3e')\"\n",
              "              title=\"Convert this dataframe to an interactive table.\"\n",
              "              style=\"display:none;\">\n",
              "        \n",
              "  <svg xmlns=\"http://www.w3.org/2000/svg\" height=\"24px\"viewBox=\"0 0 24 24\"\n",
              "       width=\"24px\">\n",
              "    <path d=\"M0 0h24v24H0V0z\" fill=\"none\"/>\n",
              "    <path d=\"M18.56 5.44l.94 2.06.94-2.06 2.06-.94-2.06-.94-.94-2.06-.94 2.06-2.06.94zm-11 1L8.5 8.5l.94-2.06 2.06-.94-2.06-.94L8.5 2.5l-.94 2.06-2.06.94zm10 10l.94 2.06.94-2.06 2.06-.94-2.06-.94-.94-2.06-.94 2.06-2.06.94z\"/><path d=\"M17.41 7.96l-1.37-1.37c-.4-.4-.92-.59-1.43-.59-.52 0-1.04.2-1.43.59L10.3 9.45l-7.72 7.72c-.78.78-.78 2.05 0 2.83L4 21.41c.39.39.9.59 1.41.59.51 0 1.02-.2 1.41-.59l7.78-7.78 2.81-2.81c.8-.78.8-2.07 0-2.86zM5.41 20L4 18.59l7.72-7.72 1.47 1.35L5.41 20z\"/>\n",
              "  </svg>\n",
              "      </button>\n",
              "      \n",
              "  <style>\n",
              "    .colab-df-container {\n",
              "      display:flex;\n",
              "      flex-wrap:wrap;\n",
              "      gap: 12px;\n",
              "    }\n",
              "\n",
              "    .colab-df-convert {\n",
              "      background-color: #E8F0FE;\n",
              "      border: none;\n",
              "      border-radius: 50%;\n",
              "      cursor: pointer;\n",
              "      display: none;\n",
              "      fill: #1967D2;\n",
              "      height: 32px;\n",
              "      padding: 0 0 0 0;\n",
              "      width: 32px;\n",
              "    }\n",
              "\n",
              "    .colab-df-convert:hover {\n",
              "      background-color: #E2EBFA;\n",
              "      box-shadow: 0px 1px 2px rgba(60, 64, 67, 0.3), 0px 1px 3px 1px rgba(60, 64, 67, 0.15);\n",
              "      fill: #174EA6;\n",
              "    }\n",
              "\n",
              "    [theme=dark] .colab-df-convert {\n",
              "      background-color: #3B4455;\n",
              "      fill: #D2E3FC;\n",
              "    }\n",
              "\n",
              "    [theme=dark] .colab-df-convert:hover {\n",
              "      background-color: #434B5C;\n",
              "      box-shadow: 0px 1px 3px 1px rgba(0, 0, 0, 0.15);\n",
              "      filter: drop-shadow(0px 1px 2px rgba(0, 0, 0, 0.3));\n",
              "      fill: #FFFFFF;\n",
              "    }\n",
              "  </style>\n",
              "\n",
              "      <script>\n",
              "        const buttonEl =\n",
              "          document.querySelector('#df-74387e31-563e-4cde-9797-0101c7ff3e3e button.colab-df-convert');\n",
              "        buttonEl.style.display =\n",
              "          google.colab.kernel.accessAllowed ? 'block' : 'none';\n",
              "\n",
              "        async function convertToInteractive(key) {\n",
              "          const element = document.querySelector('#df-74387e31-563e-4cde-9797-0101c7ff3e3e');\n",
              "          const dataTable =\n",
              "            await google.colab.kernel.invokeFunction('convertToInteractive',\n",
              "                                                     [key], {});\n",
              "          if (!dataTable) return;\n",
              "\n",
              "          const docLinkHtml = 'Like what you see? Visit the ' +\n",
              "            '<a target=\"_blank\" href=https://colab.research.google.com/notebooks/data_table.ipynb>data table notebook</a>'\n",
              "            + ' to learn more about interactive tables.';\n",
              "          element.innerHTML = '';\n",
              "          dataTable['output_type'] = 'display_data';\n",
              "          await google.colab.output.renderOutput(dataTable, element);\n",
              "          const docLink = document.createElement('div');\n",
              "          docLink.innerHTML = docLinkHtml;\n",
              "          element.appendChild(docLink);\n",
              "        }\n",
              "      </script>\n",
              "    </div>\n",
              "  </div>\n",
              "  "
            ]
          },
          "metadata": {},
          "execution_count": 10
        }
      ]
    },
    {
      "cell_type": "code",
      "source": [
        "# Kolom yang tidak terdapat nilai\n",
        "miss_col = data_stat[data_stat[\"missing_rate\"] == 1].index.to_list()\n",
        "print(\"Kolom yang tidak memiliki nilai:\")\n",
        "print(miss_col)\n",
        "print()\n",
        "\n",
        "# Kolom yang terlalu unik\n",
        "vari_col = data_stat[data_stat[\"unique_value\"] == new_df.shape[0]].index.to_list()\n",
        "print(\"Kolom yang terlalu unik:\")\n",
        "print(vari_col)\n",
        "print()\n",
        "\n",
        "# Kolom dengan kategori yang banyak\n",
        "cat_col_stat = data_stat[data_stat[\"dtype\"] == \"object\"]\n",
        "vari_cat_col = cat_col_stat[cat_col_stat[\"unique_value\"] > 1000].index.to_list()\n",
        "print(\"Kolom dengan kategori yang banyak:\")\n",
        "print(vari_cat_col)\n",
        "print()\n",
        "\n",
        "# Kolom yang terdiri dari satu nilai\n",
        "single_valued_col = data_stat[data_stat[\"unique_value\"] == 1].index.to_list()\n",
        "print(\"Kolom yang terlalu unik:\")\n",
        "print(single_valued_col)\n",
        "print()\n",
        "\n",
        "removed_features = miss_col + vari_col + vari_cat_col + single_valued_col"
      ],
      "metadata": {
        "colab": {
          "base_uri": "https://localhost:8080/"
        },
        "id": "Q-mypJDXPq7F",
        "outputId": "c03d32d8-599d-45da-f72b-102f0009f380"
      },
      "execution_count": 11,
      "outputs": [
        {
          "output_type": "stream",
          "name": "stdout",
          "text": [
            "Kolom yang tidak memiliki nilai:\n",
            "['annual_inc_joint', 'dti_joint', 'verification_status_joint', 'open_acc_6m', 'open_il_6m', 'open_il_12m', 'open_il_24m', 'mths_since_rcnt_il', 'total_bal_il', 'il_util', 'open_rv_12m', 'open_rv_24m', 'max_bal_bc', 'all_util', 'inq_fi', 'total_cu_tl', 'inq_last_12m']\n",
            "\n",
            "Kolom yang terlalu unik:\n",
            "['Unnamed: 0', 'id', 'member_id', 'url']\n",
            "\n",
            "Kolom dengan kategori yang banyak:\n",
            "['emp_title', 'url', 'desc', 'title']\n",
            "\n",
            "Kolom yang terlalu unik:\n",
            "['policy_code', 'application_type']\n",
            "\n"
          ]
        }
      ]
    },
    {
      "cell_type": "markdown",
      "source": [],
      "metadata": {
        "id": "hYX4kImjK2rZ"
      }
    },
    {
      "cell_type": "markdown",
      "source": [
        "Menghitung korelasi kolom loan_status dengan kolom lainnya untuk mengetahui parameter yang mempengaruhi nilai pada loan_status"
      ],
      "metadata": {
        "id": "ysVTk4vHovod"
      }
    },
    {
      "cell_type": "code",
      "source": [
        "# Hilangkan fitur yang tidak terpakai\n",
        "pre_df = new_df.loc[:, ~new_df.columns.isin(removed_features)].copy()\n",
        "pre_df.info()"
      ],
      "metadata": {
        "colab": {
          "base_uri": "https://localhost:8080/"
        },
        "id": "hOwcz9TKo8ix",
        "outputId": "7b5083dc-1b47-49b7-d5f8-097b42e3b21e"
      },
      "execution_count": 12,
      "outputs": [
        {
          "output_type": "stream",
          "name": "stdout",
          "text": [
            "<class 'pandas.core.frame.DataFrame'>\n",
            "Int64Index: 230795 entries, 0 to 466283\n",
            "Data columns (total 49 columns):\n",
            " #   Column                       Non-Null Count   Dtype  \n",
            "---  ------                       --------------   -----  \n",
            " 0   loan_amnt                    230795 non-null  int64  \n",
            " 1   funded_amnt                  230795 non-null  int64  \n",
            " 2   funded_amnt_inv              230795 non-null  float64\n",
            " 3   term                         230795 non-null  object \n",
            " 4   int_rate                     230795 non-null  float64\n",
            " 5   installment                  230795 non-null  float64\n",
            " 6   grade                        230795 non-null  object \n",
            " 7   sub_grade                    230795 non-null  object \n",
            " 8   emp_length                   222040 non-null  object \n",
            " 9   home_ownership               230795 non-null  object \n",
            " 10  annual_inc                   230791 non-null  float64\n",
            " 11  verification_status          230795 non-null  object \n",
            " 12  issue_d                      230795 non-null  object \n",
            " 13  loan_status                  230795 non-null  int64  \n",
            " 14  pymnt_plan                   230795 non-null  object \n",
            " 15  purpose                      230795 non-null  object \n",
            " 16  zip_code                     230795 non-null  object \n",
            " 17  addr_state                   230795 non-null  object \n",
            " 18  dti                          230795 non-null  float64\n",
            " 19  delinq_2yrs                  230766 non-null  float64\n",
            " 20  earliest_cr_line             230766 non-null  object \n",
            " 21  inq_last_6mths               230766 non-null  float64\n",
            " 22  mths_since_last_delinq       101111 non-null  float64\n",
            " 23  mths_since_last_record       27646 non-null   float64\n",
            " 24  open_acc                     230766 non-null  float64\n",
            " 25  pub_rec                      230766 non-null  float64\n",
            " 26  revol_bal                    230795 non-null  int64  \n",
            " 27  revol_util                   230569 non-null  float64\n",
            " 28  total_acc                    230766 non-null  float64\n",
            " 29  initial_list_status          230795 non-null  object \n",
            " 30  out_prncp                    230795 non-null  float64\n",
            " 31  out_prncp_inv                230795 non-null  float64\n",
            " 32  total_pymnt                  230795 non-null  float64\n",
            " 33  total_pymnt_inv              230795 non-null  float64\n",
            " 34  total_rec_prncp              230795 non-null  float64\n",
            " 35  total_rec_int                230795 non-null  float64\n",
            " 36  total_rec_late_fee           230795 non-null  float64\n",
            " 37  recoveries                   230795 non-null  float64\n",
            " 38  collection_recovery_fee      230795 non-null  float64\n",
            " 39  last_pymnt_d                 230419 non-null  object \n",
            " 40  last_pymnt_amnt              230795 non-null  float64\n",
            " 41  next_pymnt_d                 3581 non-null    object \n",
            " 42  last_credit_pull_d           230772 non-null  object \n",
            " 43  collections_12_mths_ex_med   230650 non-null  float64\n",
            " 44  mths_since_last_major_derog  40232 non-null   float64\n",
            " 45  acc_now_delinq               230766 non-null  float64\n",
            " 46  tot_coll_amt                 164320 non-null  float64\n",
            " 47  tot_cur_bal                  164320 non-null  float64\n",
            " 48  total_rev_hi_lim             164320 non-null  float64\n",
            "dtypes: float64(29), int64(4), object(16)\n",
            "memory usage: 96.1+ MB\n"
          ]
        }
      ]
    },
    {
      "cell_type": "markdown",
      "source": [
        "Mencari fitur numerik yang akan digunakan"
      ],
      "metadata": {
        "id": "LApP5L_Pef5L"
      }
    },
    {
      "cell_type": "code",
      "source": [
        "correlations = (pre_df.select_dtypes(exclude=object)\n",
        "                         .corr()\n",
        "                         .dropna(how=\"all\", axis=0)\n",
        "                         .dropna(how=\"all\", axis=1)\n",
        ")\n",
        "\n",
        "data = correlations[\"loan_status\"].abs().sort_values(ascending=False)\n",
        "data\n"
      ],
      "metadata": {
        "colab": {
          "base_uri": "https://localhost:8080/"
        },
        "id": "AZv5_HNqdrg3",
        "outputId": "311e6806-6013-4b62-83c6-8f00f3702130"
      },
      "execution_count": 13,
      "outputs": [
        {
          "output_type": "execute_result",
          "data": {
            "text/plain": [
              "loan_status                    1.000000\n",
              "total_rec_prncp                0.460338\n",
              "recoveries                     0.445422\n",
              "last_pymnt_amnt                0.384781\n",
              "total_pymnt_inv                0.358588\n",
              "total_pymnt                    0.355349\n",
              "collection_recovery_fee        0.300094\n",
              "int_rate                       0.241059\n",
              "total_rec_late_fee             0.152231\n",
              "inq_last_6mths                 0.116393\n",
              "dti                            0.107257\n",
              "out_prncp                      0.099816\n",
              "out_prncp_inv                  0.099814\n",
              "revol_util                     0.089180\n",
              "tot_cur_bal                    0.076230\n",
              "mths_since_last_record         0.062190\n",
              "annual_inc                     0.061623\n",
              "total_rev_hi_lim               0.052931\n",
              "loan_amnt                      0.049253\n",
              "funded_amnt                    0.048790\n",
              "funded_amnt_inv                0.039854\n",
              "installment                    0.033419\n",
              "total_rec_int                  0.032997\n",
              "total_acc                      0.030680\n",
              "mths_since_last_delinq         0.029299\n",
              "delinq_2yrs                    0.019631\n",
              "open_acc                       0.013934\n",
              "revol_bal                      0.011371\n",
              "mths_since_last_major_derog    0.010022\n",
              "acc_now_delinq                 0.006406\n",
              "pub_rec                        0.006355\n",
              "collections_12_mths_ex_med     0.005582\n",
              "tot_coll_amt                   0.001637\n",
              "Name: loan_status, dtype: float64"
            ]
          },
          "metadata": {},
          "execution_count": 13
        }
      ]
    },
    {
      "cell_type": "markdown",
      "source": [
        "Kita masukkan kolom dengan nilai korelasi lebih dari 0.1 ke dalam dataframe yang akan digunakan untuk pelatihan machine learning"
      ],
      "metadata": {
        "id": "BIwTEPXxgpUB"
      }
    },
    {
      "cell_type": "code",
      "source": [
        "a = 0\n",
        "num_app = []\n",
        "for i in data.values:\n",
        "  if i > 0.1 :\n",
        "    num_app.append(data.index[a])\n",
        "  a += 1\n",
        "\n",
        "num_app"
      ],
      "metadata": {
        "colab": {
          "base_uri": "https://localhost:8080/"
        },
        "id": "wOgh2rX2gm4W",
        "outputId": "faff3239-0185-43cf-c41d-4ef3da61d8f1"
      },
      "execution_count": 14,
      "outputs": [
        {
          "output_type": "execute_result",
          "data": {
            "text/plain": [
              "['loan_status',\n",
              " 'total_rec_prncp',\n",
              " 'recoveries',\n",
              " 'last_pymnt_amnt',\n",
              " 'total_pymnt_inv',\n",
              " 'total_pymnt',\n",
              " 'collection_recovery_fee',\n",
              " 'int_rate',\n",
              " 'total_rec_late_fee',\n",
              " 'inq_last_6mths',\n",
              " 'dti']"
            ]
          },
          "metadata": {},
          "execution_count": 14
        }
      ]
    },
    {
      "cell_type": "code",
      "source": [
        "# kolom-kolom yang berdata tanggal\n",
        "date_cols = [\"issue_d\", \"earliest_cr_line\", \"last_pymnt_d\", \"last_credit_pull_d\", \"next_pymnt_d\"]\n",
        "\n",
        "for col in date_cols:\n",
        "    print(pre_df[col].value_counts().iloc[:5])\n",
        "    print()"
      ],
      "metadata": {
        "colab": {
          "base_uri": "https://localhost:8080/"
        },
        "id": "VGki68Gdg5aH",
        "outputId": "4940b479-f3b5-4eb2-9ad2-4976dac44736"
      },
      "execution_count": 15,
      "outputs": [
        {
          "output_type": "stream",
          "name": "stdout",
          "text": [
            "14-Oct    8808\n",
            "14-Jul    8614\n",
            "14-Apr    6744\n",
            "13-Nov    6665\n",
            "13-Oct    6653\n",
            "Name: issue_d, dtype: int64\n",
            "\n",
            "Oct-00    1972\n",
            "Oct-99    1837\n",
            "Nov-00    1796\n",
            "1-Oct     1779\n",
            "Aug-00    1758\n",
            "Name: earliest_cr_line, dtype: int64\n",
            "\n",
            "15-Jul    11703\n",
            "15-Mar    10087\n",
            "15-Jun    10078\n",
            "15-Apr    10051\n",
            "15-Aug     9932\n",
            "Name: last_pymnt_d, dtype: int64\n",
            "\n",
            "16-Jan    93758\n",
            "15-Dec    13753\n",
            "15-Nov     8199\n",
            "15-Sep     7942\n",
            "15-Oct     7805\n",
            "Name: last_credit_pull_d, dtype: int64\n",
            "\n",
            "16-Feb    795\n",
            "11-Mar    107\n",
            "11-Apr    101\n",
            "11-Feb     91\n",
            "11-Jan     79\n",
            "Name: next_pymnt_d, dtype: int64\n",
            "\n"
          ]
        }
      ]
    },
    {
      "cell_type": "code",
      "source": [
        "# Korelasi antar tanggal dan status pinjaman\n",
        "used_cols = date_cols + [\"loan_status\"] \n",
        "complete_correlation = associations(\n",
        "    pre_df[used_cols], \n",
        "    filename='date_correlation.png',\n",
        "    figsize=(10,10)\n",
        ")"
      ],
      "metadata": {
        "colab": {
          "base_uri": "https://localhost:8080/",
          "height": 633
        },
        "id": "3P9gzdBhiATB",
        "outputId": "f96b3f7b-345a-46b1-ea43-35ffd098501a"
      },
      "execution_count": 16,
      "outputs": [
        {
          "output_type": "display_data",
          "data": {
            "text/plain": [
              "<Figure size 720x720 with 2 Axes>"
            ],
            "image/png": "[encoded data removed]"
          },
          "metadata": {}
        }
      ]
    },
    {
      "cell_type": "code",
      "source": [
        "date_cols_app = [\"issue_d\", \"last_pymnt_d\", \"last_credit_pull_d\", \"next_pymnt_d\"]"
      ],
      "metadata": {
        "id": "wxYXUypbhoM9"
      },
      "execution_count": 17,
      "outputs": []
    },
    {
      "cell_type": "code",
      "source": [
        "# Kolom-kolom yang berdata kategorik\n",
        "cat_features = pre_df.select_dtypes(include=object).columns\n",
        "cat_features"
      ],
      "metadata": {
        "colab": {
          "base_uri": "https://localhost:8080/"
        },
        "id": "826kdmnwhk5m",
        "outputId": "0a77d0cf-9059-45ea-b0fd-6d293ec73079"
      },
      "execution_count": 18,
      "outputs": [
        {
          "output_type": "execute_result",
          "data": {
            "text/plain": [
              "Index(['term', 'grade', 'sub_grade', 'emp_length', 'home_ownership',\n",
              "       'verification_status', 'issue_d', 'pymnt_plan', 'purpose', 'zip_code',\n",
              "       'addr_state', 'earliest_cr_line', 'initial_list_status', 'last_pymnt_d',\n",
              "       'next_pymnt_d', 'last_credit_pull_d'],\n",
              "      dtype='object')"
            ]
          },
          "metadata": {},
          "execution_count": 18
        }
      ]
    },
    {
      "cell_type": "code",
      "source": [
        "other_cat_cols = cat_features[~cat_features.isin(date_cols)]\n",
        "other_cat_cols"
      ],
      "metadata": {
        "colab": {
          "base_uri": "https://localhost:8080/"
        },
        "id": "awSJjHTTlrZ9",
        "outputId": "73dab471-ebfa-48c6-8c9d-93daffa5a0f0"
      },
      "execution_count": 19,
      "outputs": [
        {
          "output_type": "execute_result",
          "data": {
            "text/plain": [
              "Index(['term', 'grade', 'sub_grade', 'emp_length', 'home_ownership',\n",
              "       'verification_status', 'pymnt_plan', 'purpose', 'zip_code',\n",
              "       'addr_state', 'initial_list_status'],\n",
              "      dtype='object')"
            ]
          },
          "metadata": {},
          "execution_count": 19
        }
      ]
    },
    {
      "cell_type": "code",
      "source": [
        "# Korelasi antar fitur kategorikal dan status pinjaman\n",
        "used_cols = other_cat_cols.to_list() + [\"loan_status\"]\n",
        "complete_correlation = associations(\n",
        "    pre_df[used_cols], \n",
        "    filename='cat_correlation.png',\n",
        "    figsize=(10,10)\n",
        ")"
      ],
      "metadata": {
        "colab": {
          "base_uri": "https://localhost:8080/",
          "height": 632
        },
        "id": "oRhf1RdtkqB-",
        "outputId": "407d4159-a6bf-47ef-d384-9aba64064558"
      },
      "execution_count": 20,
      "outputs": [
        {
          "output_type": "display_data",
          "data": {
            "text/plain": [
              "<Figure size 720x720 with 2 Axes>"
            ],
            "image/png": "[encoded data removed]"
          },
          "metadata": {}
        }
      ]
    },
    {
      "cell_type": "code",
      "source": [
        "#kolom_kategori yang akan dipakai\n",
        "cat_app = ['term', 'grade', 'sub_grade']"
      ],
      "metadata": {
        "id": "9tkA-jp8nW2y"
      },
      "execution_count": 21,
      "outputs": []
    },
    {
      "cell_type": "code",
      "source": [
        "app = num_app + date_cols_app + cat_app\n",
        "app_df = pre_df[app]"
      ],
      "metadata": {
        "id": "W16S2r-Knjta"
      },
      "execution_count": 22,
      "outputs": []
    },
    {
      "cell_type": "markdown",
      "source": [
        "Mencari kolom yang terdapat nilai null"
      ],
      "metadata": {
        "id": "1khKI5LCuDp1"
      }
    },
    {
      "cell_type": "code",
      "source": [
        "app_df.isna().mean().sort_values(ascending=False)"
      ],
      "metadata": {
        "colab": {
          "base_uri": "https://localhost:8080/"
        },
        "id": "4pl-zBBZt57g",
        "outputId": "77be46f7-7d50-4f8b-f9bb-7cf72cbef70e"
      },
      "execution_count": 23,
      "outputs": [
        {
          "output_type": "execute_result",
          "data": {
            "text/plain": [
              "next_pymnt_d               0.984484\n",
              "last_pymnt_d               0.001629\n",
              "inq_last_6mths             0.000126\n",
              "last_credit_pull_d         0.000100\n",
              "total_rec_prncp            0.000000\n",
              "grade                      0.000000\n",
              "term                       0.000000\n",
              "issue_d                    0.000000\n",
              "dti                        0.000000\n",
              "loan_status                0.000000\n",
              "total_rec_late_fee         0.000000\n",
              "int_rate                   0.000000\n",
              "collection_recovery_fee    0.000000\n",
              "total_pymnt                0.000000\n",
              "total_pymnt_inv            0.000000\n",
              "last_pymnt_amnt            0.000000\n",
              "recoveries                 0.000000\n",
              "sub_grade                  0.000000\n",
              "dtype: float64"
            ]
          },
          "metadata": {},
          "execution_count": 23
        }
      ]
    },
    {
      "cell_type": "markdown",
      "source": [
        "memasukkan nilai pada kolom yang terdapat data null"
      ],
      "metadata": {
        "id": "KpH4xdUouPh5"
      }
    },
    {
      "cell_type": "code",
      "source": [
        "# kita isi kolom next_pymnt_d, last_pymnt_d dan inq_lat_6mths dengan nilai lunas\n",
        "# karena terdapat kemungkinan hutang sudah dibayar lunas\n",
        "\n",
        "app_df[\"next_pymnt_d\"] = app_df[\"next_pymnt_d\"].fillna(\"lunas\")\n",
        "app_df[\"last_pymnt_d\"] = app_df[\"last_pymnt_d\"].fillna(\"lunas\")\n",
        "app_df[\"last_credit_pull_d\"] = app_df[\"last_credit_pull_d\"].fillna(\"lunas\")\n",
        "\n",
        "# kolom inq_last_6months akan diisi dengan nilai modus\n",
        "mode = app_df[\"inq_last_6mths\"].mode().values[0]\n",
        "app_df[\"inq_last_6mths\"] = app_df[\"inq_last_6mths\"].fillna(mode)\n",
        "\n",
        "# cek apakah masih ada kolom yang terdapat nilai null\n",
        "app_df.isna().mean().sort_values(ascending=False)"
      ],
      "metadata": {
        "colab": {
          "base_uri": "https://localhost:8080/"
        },
        "id": "FCPm0-B5uPHF",
        "outputId": "b55556ce-a002-4636-fa16-0c47f3b73929"
      },
      "execution_count": 24,
      "outputs": [
        {
          "output_type": "stream",
          "name": "stderr",
          "text": [
            "/usr/local/lib/python3.7/dist-packages/ipykernel_launcher.py:4: SettingWithCopyWarning: \n",
            "A value is trying to be set on a copy of a slice from a DataFrame.\n",
            "Try using .loc[row_indexer,col_indexer] = value instead\n",
            "\n",
            "See the caveats in the documentation: https://pandas.pydata.org/pandas-docs/stable/user_guide/indexing.html#returning-a-view-versus-a-copy\n",
            "  after removing the cwd from sys.path.\n",
            "/usr/local/lib/python3.7/dist-packages/ipykernel_launcher.py:5: SettingWithCopyWarning: \n",
            "A value is trying to be set on a copy of a slice from a DataFrame.\n",
            "Try using .loc[row_indexer,col_indexer] = value instead\n",
            "\n",
            "See the caveats in the documentation: https://pandas.pydata.org/pandas-docs/stable/user_guide/indexing.html#returning-a-view-versus-a-copy\n",
            "  \"\"\"\n",
            "/usr/local/lib/python3.7/dist-packages/ipykernel_launcher.py:6: SettingWithCopyWarning: \n",
            "A value is trying to be set on a copy of a slice from a DataFrame.\n",
            "Try using .loc[row_indexer,col_indexer] = value instead\n",
            "\n",
            "See the caveats in the documentation: https://pandas.pydata.org/pandas-docs/stable/user_guide/indexing.html#returning-a-view-versus-a-copy\n",
            "  \n",
            "/usr/local/lib/python3.7/dist-packages/ipykernel_launcher.py:10: SettingWithCopyWarning: \n",
            "A value is trying to be set on a copy of a slice from a DataFrame.\n",
            "Try using .loc[row_indexer,col_indexer] = value instead\n",
            "\n",
            "See the caveats in the documentation: https://pandas.pydata.org/pandas-docs/stable/user_guide/indexing.html#returning-a-view-versus-a-copy\n",
            "  # Remove the CWD from sys.path while we load stuff.\n"
          ]
        },
        {
          "output_type": "execute_result",
          "data": {
            "text/plain": [
              "loan_status                0.0\n",
              "total_rec_prncp            0.0\n",
              "grade                      0.0\n",
              "term                       0.0\n",
              "next_pymnt_d               0.0\n",
              "last_credit_pull_d         0.0\n",
              "last_pymnt_d               0.0\n",
              "issue_d                    0.0\n",
              "dti                        0.0\n",
              "inq_last_6mths             0.0\n",
              "total_rec_late_fee         0.0\n",
              "int_rate                   0.0\n",
              "collection_recovery_fee    0.0\n",
              "total_pymnt                0.0\n",
              "total_pymnt_inv            0.0\n",
              "last_pymnt_amnt            0.0\n",
              "recoveries                 0.0\n",
              "sub_grade                  0.0\n",
              "dtype: float64"
            ]
          },
          "metadata": {},
          "execution_count": 24
        }
      ]
    },
    {
      "cell_type": "markdown",
      "source": [
        "# Melakukan pemodelan data"
      ],
      "metadata": {
        "id": "IWkl0xVUveMF"
      }
    },
    {
      "cell_type": "code",
      "source": [
        "train_df = app_df\n"
      ],
      "metadata": {
        "id": "QGmkPYP168UJ"
      },
      "execution_count": 25,
      "outputs": []
    },
    {
      "cell_type": "code",
      "source": [
        "x = train_df.drop(columns = \"loan_status\")\n",
        "y = app_df[\"loan_status\"]"
      ],
      "metadata": {
        "id": "22vCoFOIvXM_"
      },
      "execution_count": 26,
      "outputs": []
    },
    {
      "cell_type": "code",
      "source": [
        "num_features = x.select_dtypes(exclude=\"object\")\n",
        "cat_features = x.select_dtypes(include=\"object\")"
      ],
      "metadata": {
        "id": "xbMaHtme7n8H"
      },
      "execution_count": 27,
      "outputs": []
    },
    {
      "cell_type": "code",
      "source": [
        "# Normalisasi fitur numerik\n",
        "num_features = (num_features - num_features.mean()) / num_features.std()\n",
        "num_features"
      ],
      "metadata": {
        "colab": {
          "base_uri": "https://localhost:8080/",
          "height": 487
        },
        "id": "8IV1SjqL7qkz",
        "outputId": "22a16e86-13a0-4655-d8af-148b0b547dc3"
      },
      "execution_count": 28,
      "outputs": [
        {
          "output_type": "execute_result",
          "data": {
            "text/plain": [
              "        total_rec_prncp  recoveries  last_pymnt_amnt  total_pymnt_inv  \\\n",
              "0             -0.765957   -0.222400        -0.822146        -0.800159   \n",
              "1             -1.320543   -0.071386        -0.829680        -1.310168   \n",
              "2             -1.083314   -0.222400        -0.752787        -1.099216   \n",
              "3             -0.155655   -0.222400        -0.795193        -0.123979   \n",
              "5             -0.765957   -0.222400        -0.823681        -0.821350   \n",
              "...                 ...         ...              ...              ...   \n",
              "466276        -1.332307    1.273040        -0.815471        -1.202181   \n",
              "466277        -0.817113   -0.222400        -0.765357        -0.822146   \n",
              "466278        -0.155655   -0.222400        -0.049229        -0.106227   \n",
              "466281        -1.152029   -0.222400        -0.844495        -0.922172   \n",
              "466283        -1.132138   -0.222400        -0.629414        -1.191961   \n",
              "\n",
              "        total_pymnt  collection_recovery_fee  int_rate  total_rec_late_fee  \\\n",
              "0         -0.812658                -0.149837 -0.716859           -0.139146   \n",
              "1         -1.326547                -0.140651  0.340654           -0.139146   \n",
              "2         -1.115272                -0.149837  0.498595           -0.139146   \n",
              "3         -0.138548                -0.149837 -0.066786            2.788316   \n",
              "5         -0.836983                -0.149837 -1.346331           -0.139146   \n",
              "...             ...                      ...       ...                 ...   \n",
              "466276    -1.218395                -0.053887  1.022774           -0.139146   \n",
              "466277    -0.836953                -0.149837 -1.346331           -0.139146   \n",
              "466278    -0.120771                -0.149837  1.022774           -0.139146   \n",
              "466281    -0.937959                -0.149837  1.416480           -0.139146   \n",
              "466283    -1.208159                -0.149837 -1.346331           -0.139146   \n",
              "\n",
              "        inq_last_6mths       dti  \n",
              "0             0.078612  1.472931  \n",
              "1             3.480063 -2.000498  \n",
              "2             0.928975 -0.994312  \n",
              "3             0.078612  0.475868  \n",
              "5             1.779338 -0.671081  \n",
              "...                ...       ...  \n",
              "466276       -0.771750 -0.530319  \n",
              "466277       -0.771750 -0.784472  \n",
              "466278       -0.771750 -0.622857  \n",
              "466281        3.480063  0.273848  \n",
              "466283        0.078612 -1.428327  \n",
              "\n",
              "[230795 rows x 10 columns]"
            ],
            "text/html": [
              "\n",
              "  <div id=\"df-a167ab7c-01e8-4e6a-85b8-c17eb0561b97\">\n",
              "    <div class=\"colab-df-container\">\n",
              "      <div>\n",
              "<style scoped>\n",
              "    .dataframe tbody tr th:only-of-type {\n",
              "        vertical-align: middle;\n",
              "    }\n",
              "\n",
              "    .dataframe tbody tr th {\n",
              "        vertical-align: top;\n",
              "    }\n",
              "\n",
              "    .dataframe thead th {\n",
              "        text-align: right;\n",
              "    }\n",
              "</style>\n",
              "<table border=\"1\" class=\"dataframe\">\n",
              "  <thead>\n",
              "    <tr style=\"text-align: right;\">\n",
              "      <th></th>\n",
              "      <th>total_rec_prncp</th>\n",
              "      <th>recoveries</th>\n",
              "      <th>last_pymnt_amnt</th>\n",
              "      <th>total_pymnt_inv</th>\n",
              "      <th>total_pymnt</th>\n",
              "      <th>collection_recovery_fee</th>\n",
              "      <th>int_rate</th>\n",
              "      <th>total_rec_late_fee</th>\n",
              "      <th>inq_last_6mths</th>\n",
              "      <th>dti</th>\n",
              "    </tr>\n",
              "  </thead>\n",
              "  <tbody>\n",
              "    <tr>\n",
              "      <th>0</th>\n",
              "      <td>-0.765957</td>\n",
              "      <td>-0.222400</td>\n",
              "      <td>-0.822146</td>\n",
              "      <td>-0.800159</td>\n",
              "      <td>-0.812658</td>\n",
              "      <td>-0.149837</td>\n",
              "      <td>-0.716859</td>\n",
              "      <td>-0.139146</td>\n",
              "      <td>0.078612</td>\n",
              "      <td>1.472931</td>\n",
              "    </tr>\n",
              "    <tr>\n",
              "      <th>1</th>\n",
              "      <td>-1.320543</td>\n",
              "      <td>-0.071386</td>\n",
              "      <td>-0.829680</td>\n",
              "      <td>-1.310168</td>\n",
              "      <td>-1.326547</td>\n",
              "      <td>-0.140651</td>\n",
              "      <td>0.340654</td>\n",
              "      <td>-0.139146</td>\n",
              "      <td>3.480063</td>\n",
              "      <td>-2.000498</td>\n",
              "    </tr>\n",
              "    <tr>\n",
              "      <th>2</th>\n",
              "      <td>-1.083314</td>\n",
              "      <td>-0.222400</td>\n",
              "      <td>-0.752787</td>\n",
              "      <td>-1.099216</td>\n",
              "      <td>-1.115272</td>\n",
              "      <td>-0.149837</td>\n",
              "      <td>0.498595</td>\n",
              "      <td>-0.139146</td>\n",
              "      <td>0.928975</td>\n",
              "      <td>-0.994312</td>\n",
              "    </tr>\n",
              "    <tr>\n",
              "      <th>3</th>\n",
              "      <td>-0.155655</td>\n",
              "      <td>-0.222400</td>\n",
              "      <td>-0.795193</td>\n",
              "      <td>-0.123979</td>\n",
              "      <td>-0.138548</td>\n",
              "      <td>-0.149837</td>\n",
              "      <td>-0.066786</td>\n",
              "      <td>2.788316</td>\n",
              "      <td>0.078612</td>\n",
              "      <td>0.475868</td>\n",
              "    </tr>\n",
              "    <tr>\n",
              "      <th>5</th>\n",
              "      <td>-0.765957</td>\n",
              "      <td>-0.222400</td>\n",
              "      <td>-0.823681</td>\n",
              "      <td>-0.821350</td>\n",
              "      <td>-0.836983</td>\n",
              "      <td>-0.149837</td>\n",
              "      <td>-1.346331</td>\n",
              "      <td>-0.139146</td>\n",
              "      <td>1.779338</td>\n",
              "      <td>-0.671081</td>\n",
              "    </tr>\n",
              "    <tr>\n",
              "      <th>...</th>\n",
              "      <td>...</td>\n",
              "      <td>...</td>\n",
              "      <td>...</td>\n",
              "      <td>...</td>\n",
              "      <td>...</td>\n",
              "      <td>...</td>\n",
              "      <td>...</td>\n",
              "      <td>...</td>\n",
              "      <td>...</td>\n",
              "      <td>...</td>\n",
              "    </tr>\n",
              "    <tr>\n",
              "      <th>466276</th>\n",
              "      <td>-1.332307</td>\n",
              "      <td>1.273040</td>\n",
              "      <td>-0.815471</td>\n",
              "      <td>-1.202181</td>\n",
              "      <td>-1.218395</td>\n",
              "      <td>-0.053887</td>\n",
              "      <td>1.022774</td>\n",
              "      <td>-0.139146</td>\n",
              "      <td>-0.771750</td>\n",
              "      <td>-0.530319</td>\n",
              "    </tr>\n",
              "    <tr>\n",
              "      <th>466277</th>\n",
              "      <td>-0.817113</td>\n",
              "      <td>-0.222400</td>\n",
              "      <td>-0.765357</td>\n",
              "      <td>-0.822146</td>\n",
              "      <td>-0.836953</td>\n",
              "      <td>-0.149837</td>\n",
              "      <td>-1.346331</td>\n",
              "      <td>-0.139146</td>\n",
              "      <td>-0.771750</td>\n",
              "      <td>-0.784472</td>\n",
              "    </tr>\n",
              "    <tr>\n",
              "      <th>466278</th>\n",
              "      <td>-0.155655</td>\n",
              "      <td>-0.222400</td>\n",
              "      <td>-0.049229</td>\n",
              "      <td>-0.106227</td>\n",
              "      <td>-0.120771</td>\n",
              "      <td>-0.149837</td>\n",
              "      <td>1.022774</td>\n",
              "      <td>-0.139146</td>\n",
              "      <td>-0.771750</td>\n",
              "      <td>-0.622857</td>\n",
              "    </tr>\n",
              "    <tr>\n",
              "      <th>466281</th>\n",
              "      <td>-1.152029</td>\n",
              "      <td>-0.222400</td>\n",
              "      <td>-0.844495</td>\n",
              "      <td>-0.922172</td>\n",
              "      <td>-0.937959</td>\n",
              "      <td>-0.149837</td>\n",
              "      <td>1.416480</td>\n",
              "      <td>-0.139146</td>\n",
              "      <td>3.480063</td>\n",
              "      <td>0.273848</td>\n",
              "    </tr>\n",
              "    <tr>\n",
              "      <th>466283</th>\n",
              "      <td>-1.132138</td>\n",
              "      <td>-0.222400</td>\n",
              "      <td>-0.629414</td>\n",
              "      <td>-1.191961</td>\n",
              "      <td>-1.208159</td>\n",
              "      <td>-0.149837</td>\n",
              "      <td>-1.346331</td>\n",
              "      <td>-0.139146</td>\n",
              "      <td>0.078612</td>\n",
              "      <td>-1.428327</td>\n",
              "    </tr>\n",
              "  </tbody>\n",
              "</table>\n",
              "<p>230795 rows × 10 columns</p>\n",
              "</div>\n",
              "      <button class=\"colab-df-convert\" onclick=\"convertToInteractive('df-a167ab7c-01e8-4e6a-85b8-c17eb0561b97')\"\n",
              "              title=\"Convert this dataframe to an interactive table.\"\n",
              "              style=\"display:none;\">\n",
              "        \n",
              "  <svg xmlns=\"http://www.w3.org/2000/svg\" height=\"24px\"viewBox=\"0 0 24 24\"\n",
              "       width=\"24px\">\n",
              "    <path d=\"M0 0h24v24H0V0z\" fill=\"none\"/>\n",
              "    <path d=\"M18.56 5.44l.94 2.06.94-2.06 2.06-.94-2.06-.94-.94-2.06-.94 2.06-2.06.94zm-11 1L8.5 8.5l.94-2.06 2.06-.94-2.06-.94L8.5 2.5l-.94 2.06-2.06.94zm10 10l.94 2.06.94-2.06 2.06-.94-2.06-.94-.94-2.06-.94 2.06-2.06.94z\"/><path d=\"M17.41 7.96l-1.37-1.37c-.4-.4-.92-.59-1.43-.59-.52 0-1.04.2-1.43.59L10.3 9.45l-7.72 7.72c-.78.78-.78 2.05 0 2.83L4 21.41c.39.39.9.59 1.41.59.51 0 1.02-.2 1.41-.59l7.78-7.78 2.81-2.81c.8-.78.8-2.07 0-2.86zM5.41 20L4 18.59l7.72-7.72 1.47 1.35L5.41 20z\"/>\n",
              "  </svg>\n",
              "      </button>\n",
              "      \n",
              "  <style>\n",
              "    .colab-df-container {\n",
              "      display:flex;\n",
              "      flex-wrap:wrap;\n",
              "      gap: 12px;\n",
              "    }\n",
              "\n",
              "    .colab-df-convert {\n",
              "      background-color: #E8F0FE;\n",
              "      border: none;\n",
              "      border-radius: 50%;\n",
              "      cursor: pointer;\n",
              "      display: none;\n",
              "      fill: #1967D2;\n",
              "      height: 32px;\n",
              "      padding: 0 0 0 0;\n",
              "      width: 32px;\n",
              "    }\n",
              "\n",
              "    .colab-df-convert:hover {\n",
              "      background-color: #E2EBFA;\n",
              "      box-shadow: 0px 1px 2px rgba(60, 64, 67, 0.3), 0px 1px 3px 1px rgba(60, 64, 67, 0.15);\n",
              "      fill: #174EA6;\n",
              "    }\n",
              "\n",
              "    [theme=dark] .colab-df-convert {\n",
              "      background-color: #3B4455;\n",
              "      fill: #D2E3FC;\n",
              "    }\n",
              "\n",
              "    [theme=dark] .colab-df-convert:hover {\n",
              "      background-color: #434B5C;\n",
              "      box-shadow: 0px 1px 3px 1px rgba(0, 0, 0, 0.15);\n",
              "      filter: drop-shadow(0px 1px 2px rgba(0, 0, 0, 0.3));\n",
              "      fill: #FFFFFF;\n",
              "    }\n",
              "  </style>\n",
              "\n",
              "      <script>\n",
              "        const buttonEl =\n",
              "          document.querySelector('#df-a167ab7c-01e8-4e6a-85b8-c17eb0561b97 button.colab-df-convert');\n",
              "        buttonEl.style.display =\n",
              "          google.colab.kernel.accessAllowed ? 'block' : 'none';\n",
              "\n",
              "        async function convertToInteractive(key) {\n",
              "          const element = document.querySelector('#df-a167ab7c-01e8-4e6a-85b8-c17eb0561b97');\n",
              "          const dataTable =\n",
              "            await google.colab.kernel.invokeFunction('convertToInteractive',\n",
              "                                                     [key], {});\n",
              "          if (!dataTable) return;\n",
              "\n",
              "          const docLinkHtml = 'Like what you see? Visit the ' +\n",
              "            '<a target=\"_blank\" href=https://colab.research.google.com/notebooks/data_table.ipynb>data table notebook</a>'\n",
              "            + ' to learn more about interactive tables.';\n",
              "          element.innerHTML = '';\n",
              "          dataTable['output_type'] = 'display_data';\n",
              "          await google.colab.output.renderOutput(dataTable, element);\n",
              "          const docLink = document.createElement('div');\n",
              "          docLink.innerHTML = docLinkHtml;\n",
              "          element.appendChild(docLink);\n",
              "        }\n",
              "      </script>\n",
              "    </div>\n",
              "  </div>\n",
              "  "
            ]
          },
          "metadata": {},
          "execution_count": 28
        }
      ]
    },
    {
      "cell_type": "code",
      "source": [
        "# OneHotEncode fitur kategorik\n",
        "cat_features = pd.get_dummies(cat_features)\n",
        "cat_features"
      ],
      "metadata": {
        "colab": {
          "base_uri": "https://localhost:8080/",
          "height": 505
        },
        "id": "o5B9ob057y1_",
        "outputId": "15ef1896-6e1a-44a5-85fc-24cad262e8bc"
      },
      "execution_count": 29,
      "outputs": [
        {
          "output_type": "execute_result",
          "data": {
            "text/plain": [
              "        issue_d_10-Apr  issue_d_10-Aug  issue_d_10-Dec  issue_d_10-Feb  \\\n",
              "0                    0               0               0               0   \n",
              "1                    0               0               0               0   \n",
              "2                    0               0               0               0   \n",
              "3                    0               0               0               0   \n",
              "5                    0               0               0               0   \n",
              "...                ...             ...             ...             ...   \n",
              "466276               0               0               0               0   \n",
              "466277               0               0               0               0   \n",
              "466278               0               0               0               0   \n",
              "466281               0               0               0               0   \n",
              "466283               0               0               0               0   \n",
              "\n",
              "        issue_d_10-Jan  issue_d_10-Jul  issue_d_10-Jun  issue_d_10-Mar  \\\n",
              "0                    0               0               0               0   \n",
              "1                    0               0               0               0   \n",
              "2                    0               0               0               0   \n",
              "3                    0               0               0               0   \n",
              "5                    0               0               0               0   \n",
              "...                ...             ...             ...             ...   \n",
              "466276               0               0               0               0   \n",
              "466277               0               0               0               0   \n",
              "466278               0               0               0               0   \n",
              "466281               0               0               0               0   \n",
              "466283               0               0               0               0   \n",
              "\n",
              "        issue_d_10-May  issue_d_10-Nov  ...  sub_grade_F1  sub_grade_F2  \\\n",
              "0                    0               0  ...             0             0   \n",
              "1                    0               0  ...             0             0   \n",
              "2                    0               0  ...             0             0   \n",
              "3                    0               0  ...             0             0   \n",
              "5                    0               0  ...             0             0   \n",
              "...                ...             ...  ...           ...           ...   \n",
              "466276               0               0  ...             0             0   \n",
              "466277               0               0  ...             0             0   \n",
              "466278               0               0  ...             0             0   \n",
              "466281               0               0  ...             0             0   \n",
              "466283               0               0  ...             0             0   \n",
              "\n",
              "        sub_grade_F3  sub_grade_F4  sub_grade_F5  sub_grade_G1  sub_grade_G2  \\\n",
              "0                  0             0             0             0             0   \n",
              "1                  0             0             0             0             0   \n",
              "2                  0             0             0             0             0   \n",
              "3                  0             0             0             0             0   \n",
              "5                  0             0             0             0             0   \n",
              "...              ...           ...           ...           ...           ...   \n",
              "466276             0             0             0             0             0   \n",
              "466277             0             0             0             0             0   \n",
              "466278             0             0             0             0             0   \n",
              "466281             0             0             0             0             0   \n",
              "466283             0             0             0             0             0   \n",
              "\n",
              "        sub_grade_G3  sub_grade_G4  sub_grade_G5  \n",
              "0                  0             0             0  \n",
              "1                  0             0             0  \n",
              "2                  0             0             0  \n",
              "3                  0             0             0  \n",
              "5                  0             0             0  \n",
              "...              ...           ...           ...  \n",
              "466276             0             0             0  \n",
              "466277             0             0             0  \n",
              "466278             0             0             0  \n",
              "466281             0             0             0  \n",
              "466283             0             0             0  \n",
              "\n",
              "[230795 rows x 438 columns]"
            ],
            "text/html": [
              "\n",
              "  <div id=\"df-5f9c95d9-ea21-4da5-a13f-8cb654f46b9c\">\n",
              "    <div class=\"colab-df-container\">\n",
              "      <div>\n",
              "<style scoped>\n",
              "    .dataframe tbody tr th:only-of-type {\n",
              "        vertical-align: middle;\n",
              "    }\n",
              "\n",
              "    .dataframe tbody tr th {\n",
              "        vertical-align: top;\n",
              "    }\n",
              "\n",
              "    .dataframe thead th {\n",
              "        text-align: right;\n",
              "    }\n",
              "</style>\n",
              "<table border=\"1\" class=\"dataframe\">\n",
              "  <thead>\n",
              "    <tr style=\"text-align: right;\">\n",
              "      <th></th>\n",
              "      <th>issue_d_10-Apr</th>\n",
              "      <th>issue_d_10-Aug</th>\n",
              "      <th>issue_d_10-Dec</th>\n",
              "      <th>issue_d_10-Feb</th>\n",
              "      <th>issue_d_10-Jan</th>\n",
              "      <th>issue_d_10-Jul</th>\n",
              "      <th>issue_d_10-Jun</th>\n",
              "      <th>issue_d_10-Mar</th>\n",
              "      <th>issue_d_10-May</th>\n",
              "      <th>issue_d_10-Nov</th>\n",
              "      <th>...</th>\n",
              "      <th>sub_grade_F1</th>\n",
              "      <th>sub_grade_F2</th>\n",
              "      <th>sub_grade_F3</th>\n",
              "      <th>sub_grade_F4</th>\n",
              "      <th>sub_grade_F5</th>\n",
              "      <th>sub_grade_G1</th>\n",
              "      <th>sub_grade_G2</th>\n",
              "      <th>sub_grade_G3</th>\n",
              "      <th>sub_grade_G4</th>\n",
              "      <th>sub_grade_G5</th>\n",
              "    </tr>\n",
              "  </thead>\n",
              "  <tbody>\n",
              "    <tr>\n",
              "      <th>0</th>\n",
              "      <td>0</td>\n",
              "      <td>0</td>\n",
              "      <td>0</td>\n",
              "      <td>0</td>\n",
              "      <td>0</td>\n",
              "      <td>0</td>\n",
              "      <td>0</td>\n",
              "      <td>0</td>\n",
              "      <td>0</td>\n",
              "      <td>0</td>\n",
              "      <td>...</td>\n",
              "      <td>0</td>\n",
              "      <td>0</td>\n",
              "      <td>0</td>\n",
              "      <td>0</td>\n",
              "      <td>0</td>\n",
              "      <td>0</td>\n",
              "      <td>0</td>\n",
              "      <td>0</td>\n",
              "      <td>0</td>\n",
              "      <td>0</td>\n",
              "    </tr>\n",
              "    <tr>\n",
              "      <th>1</th>\n",
              "      <td>0</td>\n",
              "      <td>0</td>\n",
              "      <td>0</td>\n",
              "      <td>0</td>\n",
              "      <td>0</td>\n",
              "      <td>0</td>\n",
              "      <td>0</td>\n",
              "      <td>0</td>\n",
              "      <td>0</td>\n",
              "      <td>0</td>\n",
              "      <td>...</td>\n",
              "      <td>0</td>\n",
              "      <td>0</td>\n",
              "      <td>0</td>\n",
              "      <td>0</td>\n",
              "      <td>0</td>\n",
              "      <td>0</td>\n",
              "      <td>0</td>\n",
              "      <td>0</td>\n",
              "      <td>0</td>\n",
              "      <td>0</td>\n",
              "    </tr>\n",
              "    <tr>\n",
              "      <th>2</th>\n",
              "      <td>0</td>\n",
              "      <td>0</td>\n",
              "      <td>0</td>\n",
              "      <td>0</td>\n",
              "      <td>0</td>\n",
              "      <td>0</td>\n",
              "      <td>0</td>\n",
              "      <td>0</td>\n",
              "      <td>0</td>\n",
              "      <td>0</td>\n",
              "      <td>...</td>\n",
              "      <td>0</td>\n",
              "      <td>0</td>\n",
              "      <td>0</td>\n",
              "      <td>0</td>\n",
              "      <td>0</td>\n",
              "      <td>0</td>\n",
              "      <td>0</td>\n",
              "      <td>0</td>\n",
              "      <td>0</td>\n",
              "      <td>0</td>\n",
              "    </tr>\n",
              "    <tr>\n",
              "      <th>3</th>\n",
              "      <td>0</td>\n",
              "      <td>0</td>\n",
              "      <td>0</td>\n",
              "      <td>0</td>\n",
              "      <td>0</td>\n",
              "      <td>0</td>\n",
              "      <td>0</td>\n",
              "      <td>0</td>\n",
              "      <td>0</td>\n",
              "      <td>0</td>\n",
              "      <td>...</td>\n",
              "      <td>0</td>\n",
              "      <td>0</td>\n",
              "      <td>0</td>\n",
              "      <td>0</td>\n",
              "      <td>0</td>\n",
              "      <td>0</td>\n",
              "      <td>0</td>\n",
              "      <td>0</td>\n",
              "      <td>0</td>\n",
              "      <td>0</td>\n",
              "    </tr>\n",
              "    <tr>\n",
              "      <th>5</th>\n",
              "      <td>0</td>\n",
              "      <td>0</td>\n",
              "      <td>0</td>\n",
              "      <td>0</td>\n",
              "      <td>0</td>\n",
              "      <td>0</td>\n",
              "      <td>0</td>\n",
              "      <td>0</td>\n",
              "      <td>0</td>\n",
              "      <td>0</td>\n",
              "      <td>...</td>\n",
              "      <td>0</td>\n",
              "      <td>0</td>\n",
              "      <td>0</td>\n",
              "      <td>0</td>\n",
              "      <td>0</td>\n",
              "      <td>0</td>\n",
              "      <td>0</td>\n",
              "      <td>0</td>\n",
              "      <td>0</td>\n",
              "      <td>0</td>\n",
              "    </tr>\n",
              "    <tr>\n",
              "      <th>...</th>\n",
              "      <td>...</td>\n",
              "      <td>...</td>\n",
              "      <td>...</td>\n",
              "      <td>...</td>\n",
              "      <td>...</td>\n",
              "      <td>...</td>\n",
              "      <td>...</td>\n",
              "      <td>...</td>\n",
              "      <td>...</td>\n",
              "      <td>...</td>\n",
              "      <td>...</td>\n",
              "      <td>...</td>\n",
              "      <td>...</td>\n",
              "      <td>...</td>\n",
              "      <td>...</td>\n",
              "      <td>...</td>\n",
              "      <td>...</td>\n",
              "      <td>...</td>\n",
              "      <td>...</td>\n",
              "      <td>...</td>\n",
              "      <td>...</td>\n",
              "    </tr>\n",
              "    <tr>\n",
              "      <th>466276</th>\n",
              "      <td>0</td>\n",
              "      <td>0</td>\n",
              "      <td>0</td>\n",
              "      <td>0</td>\n",
              "      <td>0</td>\n",
              "      <td>0</td>\n",
              "      <td>0</td>\n",
              "      <td>0</td>\n",
              "      <td>0</td>\n",
              "      <td>0</td>\n",
              "      <td>...</td>\n",
              "      <td>0</td>\n",
              "      <td>0</td>\n",
              "      <td>0</td>\n",
              "      <td>0</td>\n",
              "      <td>0</td>\n",
              "      <td>0</td>\n",
              "      <td>0</td>\n",
              "      <td>0</td>\n",
              "      <td>0</td>\n",
              "      <td>0</td>\n",
              "    </tr>\n",
              "    <tr>\n",
              "      <th>466277</th>\n",
              "      <td>0</td>\n",
              "      <td>0</td>\n",
              "      <td>0</td>\n",
              "      <td>0</td>\n",
              "      <td>0</td>\n",
              "      <td>0</td>\n",
              "      <td>0</td>\n",
              "      <td>0</td>\n",
              "      <td>0</td>\n",
              "      <td>0</td>\n",
              "      <td>...</td>\n",
              "      <td>0</td>\n",
              "      <td>0</td>\n",
              "      <td>0</td>\n",
              "      <td>0</td>\n",
              "      <td>0</td>\n",
              "      <td>0</td>\n",
              "      <td>0</td>\n",
              "      <td>0</td>\n",
              "      <td>0</td>\n",
              "      <td>0</td>\n",
              "    </tr>\n",
              "    <tr>\n",
              "      <th>466278</th>\n",
              "      <td>0</td>\n",
              "      <td>0</td>\n",
              "      <td>0</td>\n",
              "      <td>0</td>\n",
              "      <td>0</td>\n",
              "      <td>0</td>\n",
              "      <td>0</td>\n",
              "      <td>0</td>\n",
              "      <td>0</td>\n",
              "      <td>0</td>\n",
              "      <td>...</td>\n",
              "      <td>0</td>\n",
              "      <td>0</td>\n",
              "      <td>0</td>\n",
              "      <td>0</td>\n",
              "      <td>0</td>\n",
              "      <td>0</td>\n",
              "      <td>0</td>\n",
              "      <td>0</td>\n",
              "      <td>0</td>\n",
              "      <td>0</td>\n",
              "    </tr>\n",
              "    <tr>\n",
              "      <th>466281</th>\n",
              "      <td>0</td>\n",
              "      <td>0</td>\n",
              "      <td>0</td>\n",
              "      <td>0</td>\n",
              "      <td>0</td>\n",
              "      <td>0</td>\n",
              "      <td>0</td>\n",
              "      <td>0</td>\n",
              "      <td>0</td>\n",
              "      <td>0</td>\n",
              "      <td>...</td>\n",
              "      <td>0</td>\n",
              "      <td>0</td>\n",
              "      <td>0</td>\n",
              "      <td>0</td>\n",
              "      <td>0</td>\n",
              "      <td>0</td>\n",
              "      <td>0</td>\n",
              "      <td>0</td>\n",
              "      <td>0</td>\n",
              "      <td>0</td>\n",
              "    </tr>\n",
              "    <tr>\n",
              "      <th>466283</th>\n",
              "      <td>0</td>\n",
              "      <td>0</td>\n",
              "      <td>0</td>\n",
              "      <td>0</td>\n",
              "      <td>0</td>\n",
              "      <td>0</td>\n",
              "      <td>0</td>\n",
              "      <td>0</td>\n",
              "      <td>0</td>\n",
              "      <td>0</td>\n",
              "      <td>...</td>\n",
              "      <td>0</td>\n",
              "      <td>0</td>\n",
              "      <td>0</td>\n",
              "      <td>0</td>\n",
              "      <td>0</td>\n",
              "      <td>0</td>\n",
              "      <td>0</td>\n",
              "      <td>0</td>\n",
              "      <td>0</td>\n",
              "      <td>0</td>\n",
              "    </tr>\n",
              "  </tbody>\n",
              "</table>\n",
              "<p>230795 rows × 438 columns</p>\n",
              "</div>\n",
              "      <button class=\"colab-df-convert\" onclick=\"convertToInteractive('df-5f9c95d9-ea21-4da5-a13f-8cb654f46b9c')\"\n",
              "              title=\"Convert this dataframe to an interactive table.\"\n",
              "              style=\"display:none;\">\n",
              "        \n",
              "  <svg xmlns=\"http://www.w3.org/2000/svg\" height=\"24px\"viewBox=\"0 0 24 24\"\n",
              "       width=\"24px\">\n",
              "    <path d=\"M0 0h24v24H0V0z\" fill=\"none\"/>\n",
              "    <path d=\"M18.56 5.44l.94 2.06.94-2.06 2.06-.94-2.06-.94-.94-2.06-.94 2.06-2.06.94zm-11 1L8.5 8.5l.94-2.06 2.06-.94-2.06-.94L8.5 2.5l-.94 2.06-2.06.94zm10 10l.94 2.06.94-2.06 2.06-.94-2.06-.94-.94-2.06-.94 2.06-2.06.94z\"/><path d=\"M17.41 7.96l-1.37-1.37c-.4-.4-.92-.59-1.43-.59-.52 0-1.04.2-1.43.59L10.3 9.45l-7.72 7.72c-.78.78-.78 2.05 0 2.83L4 21.41c.39.39.9.59 1.41.59.51 0 1.02-.2 1.41-.59l7.78-7.78 2.81-2.81c.8-.78.8-2.07 0-2.86zM5.41 20L4 18.59l7.72-7.72 1.47 1.35L5.41 20z\"/>\n",
              "  </svg>\n",
              "      </button>\n",
              "      \n",
              "  <style>\n",
              "    .colab-df-container {\n",
              "      display:flex;\n",
              "      flex-wrap:wrap;\n",
              "      gap: 12px;\n",
              "    }\n",
              "\n",
              "    .colab-df-convert {\n",
              "      background-color: #E8F0FE;\n",
              "      border: none;\n",
              "      border-radius: 50%;\n",
              "      cursor: pointer;\n",
              "      display: none;\n",
              "      fill: #1967D2;\n",
              "      height: 32px;\n",
              "      padding: 0 0 0 0;\n",
              "      width: 32px;\n",
              "    }\n",
              "\n",
              "    .colab-df-convert:hover {\n",
              "      background-color: #E2EBFA;\n",
              "      box-shadow: 0px 1px 2px rgba(60, 64, 67, 0.3), 0px 1px 3px 1px rgba(60, 64, 67, 0.15);\n",
              "      fill: #174EA6;\n",
              "    }\n",
              "\n",
              "    [theme=dark] .colab-df-convert {\n",
              "      background-color: #3B4455;\n",
              "      fill: #D2E3FC;\n",
              "    }\n",
              "\n",
              "    [theme=dark] .colab-df-convert:hover {\n",
              "      background-color: #434B5C;\n",
              "      box-shadow: 0px 1px 3px 1px rgba(0, 0, 0, 0.15);\n",
              "      filter: drop-shadow(0px 1px 2px rgba(0, 0, 0, 0.3));\n",
              "      fill: #FFFFFF;\n",
              "    }\n",
              "  </style>\n",
              "\n",
              "      <script>\n",
              "        const buttonEl =\n",
              "          document.querySelector('#df-5f9c95d9-ea21-4da5-a13f-8cb654f46b9c button.colab-df-convert');\n",
              "        buttonEl.style.display =\n",
              "          google.colab.kernel.accessAllowed ? 'block' : 'none';\n",
              "\n",
              "        async function convertToInteractive(key) {\n",
              "          const element = document.querySelector('#df-5f9c95d9-ea21-4da5-a13f-8cb654f46b9c');\n",
              "          const dataTable =\n",
              "            await google.colab.kernel.invokeFunction('convertToInteractive',\n",
              "                                                     [key], {});\n",
              "          if (!dataTable) return;\n",
              "\n",
              "          const docLinkHtml = 'Like what you see? Visit the ' +\n",
              "            '<a target=\"_blank\" href=https://colab.research.google.com/notebooks/data_table.ipynb>data table notebook</a>'\n",
              "            + ' to learn more about interactive tables.';\n",
              "          element.innerHTML = '';\n",
              "          dataTable['output_type'] = 'display_data';\n",
              "          await google.colab.output.renderOutput(dataTable, element);\n",
              "          const docLink = document.createElement('div');\n",
              "          docLink.innerHTML = docLinkHtml;\n",
              "          element.appendChild(docLink);\n",
              "        }\n",
              "      </script>\n",
              "    </div>\n",
              "  </div>\n",
              "  "
            ]
          },
          "metadata": {},
          "execution_count": 29
        }
      ]
    },
    {
      "cell_type": "code",
      "source": [
        "# Gabungkan Fitur\n",
        "features_full = pd.concat([num_features, cat_features], axis=1)\n",
        "x = features_full"
      ],
      "metadata": {
        "id": "slf74bFS71vj"
      },
      "execution_count": 30,
      "outputs": []
    },
    {
      "cell_type": "code",
      "source": [
        "x_train, x_test, y_train, y_test = train_test_split(x, y, test_size = 0.2, random_state=1)"
      ],
      "metadata": {
        "id": "4HUdjMaH-sVl"
      },
      "execution_count": 31,
      "outputs": []
    },
    {
      "cell_type": "markdown",
      "source": [
        "Melakukan Over sampling menggunakan SMOTE"
      ],
      "metadata": {
        "id": "_1HfMha7DGsk"
      }
    },
    {
      "cell_type": "code",
      "source": [
        "sm = SMOTE(random_state = 2)\n",
        "x_train_res, y_train_res = sm.fit_resample(x_train, y_train.ravel())"
      ],
      "metadata": {
        "id": "GLb702Hs84vl"
      },
      "execution_count": 32,
      "outputs": []
    },
    {
      "cell_type": "code",
      "source": [
        "print(\"Before OverSampling, counts of label '1': {}\".format(sum(y_train == 1)))\n",
        "print(\"Before OverSampling, counts of label '0': {} \\n\".format(sum(y_train == 0)))\n",
        "\n",
        "print(\"After OverSampling, counts of label '1': {}\".format(sum(y_train_res == 1)))\n",
        "print(\"After OverSampling, counts of label '0': {}\".format(sum(y_train_res == 0)))"
      ],
      "metadata": {
        "colab": {
          "base_uri": "https://localhost:8080/"
        },
        "id": "eUMR8igcCimH",
        "outputId": "8c9cf6ee-8c7d-460b-e9c5-bc9ef5085a9f"
      },
      "execution_count": 33,
      "outputs": [
        {
          "output_type": "stream",
          "name": "stdout",
          "text": [
            "Before OverSampling, counts of label '1': 147661\n",
            "Before OverSampling, counts of label '0': 36975 \n",
            "\n",
            "After OverSampling, counts of label '1': 147661\n",
            "After OverSampling, counts of label '0': 147661\n"
          ]
        }
      ]
    },
    {
      "cell_type": "code",
      "source": [
        "lr1 = LogisticRegression()\n",
        "lr1.fit(x_train_res, y_train_res.ravel())\n",
        "predictions = lr1.predict(x_test)\n",
        "  \n",
        "# print classification report\n",
        "print(classification_report(y_test, predictions))"
      ],
      "metadata": {
        "colab": {
          "base_uri": "https://localhost:8080/"
        },
        "id": "KifwlFmyB26_",
        "outputId": "5f7907c6-c4ed-49d2-c5ac-9234baa83ae9"
      },
      "execution_count": 34,
      "outputs": [
        {
          "output_type": "stream",
          "name": "stdout",
          "text": [
            "              precision    recall  f1-score   support\n",
            "\n",
            "           0       0.97      0.96      0.97      9081\n",
            "           1       0.99      0.99      0.99     37078\n",
            "\n",
            "    accuracy                           0.99     46159\n",
            "   macro avg       0.98      0.98      0.98     46159\n",
            "weighted avg       0.99      0.99      0.99     46159\n",
            "\n"
          ]
        },
        {
          "output_type": "stream",
          "name": "stderr",
          "text": [
            "/usr/local/lib/python3.7/dist-packages/sklearn/linear_model/_logistic.py:818: ConvergenceWarning: lbfgs failed to converge (status=1):\n",
            "STOP: TOTAL NO. of ITERATIONS REACHED LIMIT.\n",
            "\n",
            "Increase the number of iterations (max_iter) or scale the data as shown in:\n",
            "    https://scikit-learn.org/stable/modules/preprocessing.html\n",
            "Please also refer to the documentation for alternative solver options:\n",
            "    https://scikit-learn.org/stable/modules/linear_model.html#logistic-regression\n",
            "  extra_warning_msg=_LOGISTIC_SOLVER_CONVERGENCE_MSG,\n"
          ]
        }
      ]
    },
    {
      "cell_type": "code",
      "source": [
        "joblib.dump(lr1, \"logres.z\")\n",
        "logres = joblib.load(\"logres.z\")"
      ],
      "metadata": {
        "id": "EzmEOapjDzPB"
      },
      "execution_count": 35,
      "outputs": []
    },
    {
      "cell_type": "code",
      "source": [
        "logres.score(x_train, y_train)"
      ],
      "metadata": {
        "colab": {
          "base_uri": "https://localhost:8080/"
        },
        "id": "UHUqV2UuD323",
        "outputId": "59c5fc1e-479f-408f-aae1-5067ce99ba0d"
      },
      "execution_count": 36,
      "outputs": [
        {
          "output_type": "execute_result",
          "data": {
            "text/plain": [
              "0.9884421239628242"
            ]
          },
          "metadata": {},
          "execution_count": 36
        }
      ]
    },
    {
      "cell_type": "code",
      "source": [
        "report = classification_report(y_true=y_train, y_pred=logres.predict(x_train))\n",
        "print(report)"
      ],
      "metadata": {
        "colab": {
          "base_uri": "https://localhost:8080/"
        },
        "id": "Or8a-DTIEC4N",
        "outputId": "06de9d42-5db9-4004-8db7-2d422b7fd4da"
      },
      "execution_count": 37,
      "outputs": [
        {
          "output_type": "stream",
          "name": "stdout",
          "text": [
            "              precision    recall  f1-score   support\n",
            "\n",
            "           0       0.97      0.97      0.97     36975\n",
            "           1       0.99      0.99      0.99    147661\n",
            "\n",
            "    accuracy                           0.99    184636\n",
            "   macro avg       0.98      0.98      0.98    184636\n",
            "weighted avg       0.99      0.99      0.99    184636\n",
            "\n"
          ]
        }
      ]
    },
    {
      "cell_type": "code",
      "source": [
        "logres.score(x_test, y_test)"
      ],
      "metadata": {
        "colab": {
          "base_uri": "https://localhost:8080/"
        },
        "id": "lGzxJRZ6EJLJ",
        "outputId": "9fdd6785-7f9f-48f7-a8fb-6e4a6539d93c"
      },
      "execution_count": 38,
      "outputs": [
        {
          "output_type": "execute_result",
          "data": {
            "text/plain": [
              "0.9868931302671202"
            ]
          },
          "metadata": {},
          "execution_count": 38
        }
      ]
    },
    {
      "cell_type": "code",
      "source": [
        "report = classification_report(y_true=y_test, y_pred=logres.predict(x_test))\n",
        "print(report)"
      ],
      "metadata": {
        "colab": {
          "base_uri": "https://localhost:8080/"
        },
        "id": "RpP6hZ6-EL3L",
        "outputId": "4f5592a0-b51e-4207-f07a-817125bc39d4"
      },
      "execution_count": 39,
      "outputs": [
        {
          "output_type": "stream",
          "name": "stdout",
          "text": [
            "              precision    recall  f1-score   support\n",
            "\n",
            "           0       0.97      0.96      0.97      9081\n",
            "           1       0.99      0.99      0.99     37078\n",
            "\n",
            "    accuracy                           0.99     46159\n",
            "   macro avg       0.98      0.98      0.98     46159\n",
            "weighted avg       0.99      0.99      0.99     46159\n",
            "\n"
          ]
        }
      ]
    }
  ]
}